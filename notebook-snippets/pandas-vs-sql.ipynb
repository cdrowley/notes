{
 "cells": [
  {
   "cell_type": "markdown",
   "metadata": {
    "id": "zyrdY-qhisgn"
   },
   "source": [
    "## SELECT, DISTINCT, COUNT, LIMIT"
   ]
  },
  {
   "cell_type": "markdown",
   "metadata": {
    "id": "PWNuru-eiaDV"
   },
   "source": [
    "<table>\n",
    "<tr>\n",
    "<th> SQL </th>\n",
    "<th> Python </th>\n",
    "</tr>\n",
    "\n",
    "\n",
    "<tr>\n",
    "<td>\n",
    "<pre>\n",
    "SELECT name\n",
    "FROM titanic_test_data\n",
    "</pre>\n",
    "</td>\n",
    "\n",
    "<td>\n",
    "<pre>\n",
    "titanic_df[\"name\"]\n",
    "</pre>\n",
    "</td>\n",
    "</tr>\n",
    "\n",
    "\n",
    "<tr>\n",
    "<td>\n",
    "<pre>\n",
    "SELECT *\n",
    "FROM titanic_test_data\n",
    "LIMIT 5\n",
    "</pre>\n",
    "</td>\n",
    "\n",
    "<td>\n",
    "<pre>\n",
    "titanic_df.head(5)\n",
    "</pre>\n",
    "</td>\n",
    "</tr>\n",
    "\n",
    "\n",
    "<tr>\n",
    "<td>\n",
    "<pre>\n",
    "SELECT DISTINCT age\n",
    "FROM titanic_test_data\n",
    "</pre>\n",
    "</td>\n",
    "\n",
    "<td>\n",
    "<pre>\n",
    "titanic_df[\"age\"].unique()\n",
    "</pre>\n",
    "</td>\n",
    "</tr>\n",
    "\n",
    "\n",
    "<tr>\n",
    "<td>\n",
    "<pre>\n",
    "SELECT COUNT(DISTINCT age)\n",
    "FROM titanic_test_data\n",
    "</pre>\n",
    "</td>\n",
    "\n",
    "<td>\n",
    "<pre>\n",
    "len(titanic_df[\"age\"].unique())\n",
    "</pre>\n",
    "</td>\n",
    "</tr>\n",
    "\n",
    "\n",
    "</table>\n",
    "\n",
    "titanic_df[“age”].unique() will return an array of unique values here, so we would need to use len() to get the count of unique values."
   ]
  },
  {
   "cell_type": "markdown",
   "metadata": {
    "id": "833cWdLTivPO"
   },
   "source": [
    "## SELECT, WHERE, OR, AND, IN (SELECT with conditions)"
   ]
  },
  {
   "cell_type": "markdown",
   "metadata": {
    "id": "b8q9wu0-i0KT"
   },
   "source": [
    "<table>\n",
    "<tr>\n",
    "<th> SQL </th>\n",
    "<th> Python </th>\n",
    "</tr>\n",
    "\n",
    "\n",
    "<tr>\n",
    "<td>\n",
    "<pre>\n",
    "SELECT *\n",
    "FROM titanic_test_data\n",
    "WHERE pclass = 1\n",
    "</pre>\n",
    "</td>\n",
    "\n",
    "<td>\n",
    "<pre>\n",
    "titanic_df[titanic_df.pclass == 1]\n",
    "</pre>\n",
    "</td>\n",
    "</tr>\n",
    "\n",
    "\n",
    "<tr>\n",
    "<td>\n",
    "<pre>\n",
    "SELECT *\n",
    "FROM titanic_test_data\n",
    "WHERE pclass = 1\n",
    "OR pclass = 2\n",
    "</pre>\n",
    "</td>\n",
    "\n",
    "<td>\n",
    "<pre>\n",
    "titanic_df[(titanic_df.pclass == 1) | \n",
    "(titanic_df.pclass == 2)]\n",
    "</pre>\n",
    "</td>\n",
    "</tr>\n",
    "\n",
    "\n",
    "<tr>\n",
    "<td>\n",
    "<pre>\n",
    "SELECT *\n",
    "FROM titanic_test_data\n",
    "WHERE pclass IN (1,2)\n",
    "</pre>\n",
    "</td>\n",
    "\n",
    "<td>\n",
    "<pre>\n",
    "titanic_df[titanic_df.pclass.isin([1,2])]\n",
    "</pre>\n",
    "</td>\n",
    "</tr>\n",
    "\n",
    "\n",
    "<tr>\n",
    "<td>\n",
    "<pre>\n",
    "SELECT name\n",
    "FROM titanic_test_data\n",
    "WHERE pclass = 1 \n",
    "AND gender = \"male\"\n",
    "</pre>\n",
    "</td>\n",
    "\n",
    "<td>\n",
    "<pre>\n",
    "titanic_df[(titanic_df.pclass == 1) \n",
    "& (titanic_df.gender == \"male\")][\"name\"] \n",
    "</pre>\n",
    "</td>\n",
    "</tr>\n",
    "\n",
    "\n",
    "<tr>\n",
    "<td>\n",
    "<pre>\n",
    "SELECT name, age\n",
    "FROM titanic_test_data\n",
    "WHERE pclass NOT IN (1,2)\n",
    "</pre>\n",
    "</td>\n",
    "\n",
    "<td>\n",
    "<pre>\n",
    "titanic_df[~titanic_df.pclass.isin([1,2])] \n",
    "[[\"name\",\"age\"]]\n",
    "</pre>\n",
    "</td>\n",
    "</tr>\n",
    "\n",
    "\n",
    "</table>"
   ]
  },
  {
   "cell_type": "markdown",
   "metadata": {
    "id": "jCi21kXUi_Vj"
   },
   "source": [
    "If we only want to select specific columns from the dataframe, we can select using another pair of square bracket.\n",
    "\n",
    "Note: If you are selecting multiple columns, you will need to put array [\"name\",\"age\"] inside the square bracket.\n",
    "\n",
    "isin() works exactly the same as IN in SQL. To use NOT IN, we would need to use the negation(~)in Python to achieve the same result."
   ]
  },
  {
   "cell_type": "markdown",
   "metadata": {
    "id": "JoIRucjrjEU8"
   },
   "source": [
    "## GROUP BY, ORDER BY, COUNT"
   ]
  },
  {
   "cell_type": "markdown",
   "metadata": {
    "id": "ZoCl_sHqjItS"
   },
   "source": [
    "<table>\n",
    "<tr>\n",
    "<th> SQL </th>\n",
    "<th> Python </th>\n",
    "</tr>\n",
    "\n",
    "\n",
    "<tr>\n",
    "<td>\n",
    "<pre>\n",
    "SELECT\n",
    "pclass,\n",
    "gender,\n",
    "COUNT(*)\n",
    "FROM titanic_test_data\n",
    "GROUP BY 1,2\n",
    "</pre>\n",
    "</td>\n",
    "\n",
    "<td>\n",
    "<pre>\n",
    "titanic_df.groupby([\"pclass\",\"gender\"]).size()\n",
    "</pre>\n",
    "</td>\n",
    "</tr>\n",
    "\n",
    "\n",
    "<tr>\n",
    "<td>\n",
    "<pre>\n",
    "SELECT\n",
    "pclass,\n",
    "gender,\n",
    "COUNT(*)\n",
    "FROM titanic_test_data\n",
    "GROUP BY 1,2\n",
    "ORDER BY 3 DESC\n",
    "</pre>\n",
    "</td>\n",
    "\n",
    "<td>\n",
    "<pre>\n",
    "titanic_df.groupby([\"pclass\",\"gender\"])\n",
    ".size().sort_values(ascending=False) \n",
    "</pre>\n",
    "</td>\n",
    "</tr>\n",
    "\n",
    "\n",
    "<tr>\n",
    "<td>\n",
    "<pre>\n",
    "SELECT\n",
    "name,\n",
    "pclass,\n",
    "gender\n",
    "FROM titanic_test_data\n",
    "ORDER BY 1, 2 DESC\n",
    "</pre>\n",
    "</td>\n",
    "\n",
    "<td>\n",
    "<pre>\n",
    "titanic_df.sort_values([\"name\",\"pclass\"],\n",
    "ascending=[True,False])\n",
    "[[\"name\",\"pclass\",\"gender\"]] \n",
    "\n",
    "</pre>\n",
    "</td>\n",
    "</tr>\n",
    "\n",
    "\n",
    "<tr>\n",
    "<td>\n",
    "<pre>\n",
    "SELECT\n",
    "pclass,\n",
    "gender,\n",
    "SUM(fare)\n",
    "FROM titanic_test_data\n",
    "GROUP BY 1,2\n",
    "</pre>\n",
    "</td>\n",
    "\n",
    "<td>\n",
    "<pre>\n",
    "titanic_df.groupby([\"pclass\",\"gender\"]).sum()[\"fare\"]\n",
    "</pre>\n",
    "</td>\n",
    "</tr>\n",
    "\n",
    "\n",
    "</table>"
   ]
  },
  {
   "cell_type": "markdown",
   "metadata": {
    "id": "ywoAjFlujKdu"
   },
   "source": [
    "If we want to sort the COUNT only, we can just pass the boolean into the sort_values function. If we are going to sort multiple columns, then we have to pass an array of boolean to the sort_values function.\n",
    "\n",
    "sum() function will give us all aggregate numeric sum columns in the dataframe, we need to specify the column name using square bracket if we just need a specific column."
   ]
  },
  {
   "cell_type": "markdown",
   "metadata": {
    "id": "mJ7SaAB8jM-e"
   },
   "source": [
    "## MIN, MAX, MEAN, MEDIAN"
   ]
  },
  {
   "cell_type": "markdown",
   "metadata": {
    "id": "EjE33biDjO6k"
   },
   "source": [
    "<table>\n",
    "<tr>\n",
    "<th> SQL </th>\n",
    "<th> Python </th>\n",
    "</tr>\n",
    "\n",
    "\n",
    "<tr>\n",
    "<td>\n",
    "<pre>\n",
    "SELECT\n",
    "MIN(age) AS min,\n",
    "MAX(age) AS max,\n",
    "AVG(age) AS mean,\n",
    "APPROX_QUANTILES(age, 100)[OFFSET(50)] AS median\n",
    "FROM titanic_test_data\n",
    "</pre>\n",
    "</td>\n",
    "\n",
    "<td>\n",
    "<pre>\n",
    "titanic_df.agg(\n",
    "{'age': ['min', 'max', \n",
    "'mean', 'median']})\n",
    "</pre>\n",
    "</td>\n",
    "</tr>\n",
    "\n",
    "\n",
    "\n",
    "</table>"
   ]
  },
  {
   "cell_type": "markdown",
   "metadata": {
    "id": "nWn5ODzXjViR"
   },
   "source": [
    "Since SQL doesn’t have a median function, I will use BigQuery APPROX_QUANTILES to get the median of age.\n",
    "\n",
    "The pandas aggregation function .agg() also supports other function like sum."
   ]
  },
  {
   "cell_type": "markdown",
   "metadata": {
    "id": "uwTc99aLUXaa"
   },
   "source": [
    "# 20 Useful Pandas Functions"
   ]
  },
  {
   "cell_type": "markdown",
   "metadata": {
    "id": "p2AcEVkIUpwM"
   },
   "source": [
    "## Query"
   ]
  },
  {
   "cell_type": "code",
   "execution_count": 5,
   "metadata": {
    "colab": {
     "base_uri": "https://localhost:8080/",
     "height": 343
    },
    "executionInfo": {
     "elapsed": 958,
     "status": "ok",
     "timestamp": 1606684082889,
     "user": {
      "displayName": "Clive Drowley",
      "photoUrl": "https://lh3.googleusercontent.com/a-/AOh14GiMNBUScpz6uK1OoAP_wiX3V1hNMKU7OdlT-d-7=s64",
      "userId": "08192785469387199056"
     },
     "user_tz": 0
    },
    "id": "HS9TM7LrUYyE",
    "outputId": "208ddd76-d852-4edc-b4ee-5488ae7f8121"
   },
   "outputs": [
    {
     "data": {
      "text/html": [
       "<div>\n",
       "<style scoped>\n",
       "    .dataframe tbody tr th:only-of-type {\n",
       "        vertical-align: middle;\n",
       "    }\n",
       "\n",
       "    .dataframe tbody tr th {\n",
       "        vertical-align: top;\n",
       "    }\n",
       "\n",
       "    .dataframe thead th {\n",
       "        text-align: right;\n",
       "    }\n",
       "</style>\n",
       "<table border=\"1\" class=\"dataframe\">\n",
       "  <thead>\n",
       "    <tr style=\"text-align: right;\">\n",
       "      <th></th>\n",
       "      <th>group</th>\n",
       "      <th>year</th>\n",
       "      <th>value_1</th>\n",
       "      <th>value_2</th>\n",
       "    </tr>\n",
       "  </thead>\n",
       "  <tbody>\n",
       "    <tr>\n",
       "      <th>0</th>\n",
       "      <td>A</td>\n",
       "      <td>2010</td>\n",
       "      <td>4</td>\n",
       "      <td>3</td>\n",
       "    </tr>\n",
       "    <tr>\n",
       "      <th>1</th>\n",
       "      <td>A</td>\n",
       "      <td>2011</td>\n",
       "      <td>9</td>\n",
       "      <td>8</td>\n",
       "    </tr>\n",
       "    <tr>\n",
       "      <th>2</th>\n",
       "      <td>B</td>\n",
       "      <td>2012</td>\n",
       "      <td>4</td>\n",
       "      <td>3</td>\n",
       "    </tr>\n",
       "    <tr>\n",
       "      <th>3</th>\n",
       "      <td>A</td>\n",
       "      <td>2013</td>\n",
       "      <td>6</td>\n",
       "      <td>5</td>\n",
       "    </tr>\n",
       "    <tr>\n",
       "      <th>4</th>\n",
       "      <td>B</td>\n",
       "      <td>2014</td>\n",
       "      <td>7</td>\n",
       "      <td>6</td>\n",
       "    </tr>\n",
       "    <tr>\n",
       "      <th>5</th>\n",
       "      <td>B</td>\n",
       "      <td>2015</td>\n",
       "      <td>5</td>\n",
       "      <td>7</td>\n",
       "    </tr>\n",
       "    <tr>\n",
       "      <th>6</th>\n",
       "      <td>C</td>\n",
       "      <td>2016</td>\n",
       "      <td>4</td>\n",
       "      <td>4</td>\n",
       "    </tr>\n",
       "    <tr>\n",
       "      <th>7</th>\n",
       "      <td>A</td>\n",
       "      <td>2017</td>\n",
       "      <td>4</td>\n",
       "      <td>7</td>\n",
       "    </tr>\n",
       "    <tr>\n",
       "      <th>8</th>\n",
       "      <td>C</td>\n",
       "      <td>2018</td>\n",
       "      <td>0</td>\n",
       "      <td>0</td>\n",
       "    </tr>\n",
       "    <tr>\n",
       "      <th>9</th>\n",
       "      <td>C</td>\n",
       "      <td>2019</td>\n",
       "      <td>8</td>\n",
       "      <td>1</td>\n",
       "    </tr>\n",
       "  </tbody>\n",
       "</table>\n",
       "</div>"
      ],
      "text/plain": [
       "  group  year  value_1  value_2\n",
       "0     A  2010        4        3\n",
       "1     A  2011        9        8\n",
       "2     B  2012        4        3\n",
       "3     A  2013        6        5\n",
       "4     B  2014        7        6\n",
       "5     B  2015        5        7\n",
       "6     C  2016        4        4\n",
       "7     A  2017        4        7\n",
       "8     C  2018        0        0\n",
       "9     C  2019        8        1"
      ]
     },
     "execution_count": 5,
     "metadata": {},
     "output_type": "execute_result"
    }
   ],
   "source": [
    "import numpy as np\n",
    "import pandas as pd\n",
    "\n",
    "values_1 = np.random.randint(10, size=10)\n",
    "values_2 = np.random.randint(10, size=10)\n",
    "years = np.arange(2010,2020)\n",
    "groups = ['A','A','B','A','B','B','C','A','C','C']\n",
    "df = pd.DataFrame({'group':groups, 'year':years, 'value_1':values_1, 'value_2':values_2})\n",
    "df"
   ]
  },
  {
   "cell_type": "code",
   "execution_count": 6,
   "metadata": {
    "colab": {
     "base_uri": "https://localhost:8080/"
    },
    "executionInfo": {
     "elapsed": 740,
     "status": "ok",
     "timestamp": 1606677260453,
     "user": {
      "displayName": "Clive Drowley",
      "photoUrl": "https://lh3.googleusercontent.com/a-/AOh14GiMNBUScpz6uK1OoAP_wiX3V1hNMKU7OdlT-d-7=s64",
      "userId": "08192785469387199056"
     },
     "user_tz": 0
    },
    "id": "IrOrIHvKUgfH",
    "outputId": "da402ee8-c882-45c1-f983-aefd9d241222"
   },
   "outputs": [
    {
     "data": {
      "text/html": [
       "<div>\n",
       "<style scoped>\n",
       "    .dataframe tbody tr th:only-of-type {\n",
       "        vertical-align: middle;\n",
       "    }\n",
       "\n",
       "    .dataframe tbody tr th {\n",
       "        vertical-align: top;\n",
       "    }\n",
       "\n",
       "    .dataframe thead th {\n",
       "        text-align: right;\n",
       "    }\n",
       "</style>\n",
       "<table border=\"1\" class=\"dataframe\">\n",
       "  <thead>\n",
       "    <tr style=\"text-align: right;\">\n",
       "      <th></th>\n",
       "      <th>group</th>\n",
       "      <th>year</th>\n",
       "      <th>value_1</th>\n",
       "      <th>value_2</th>\n",
       "    </tr>\n",
       "  </thead>\n",
       "  <tbody>\n",
       "    <tr>\n",
       "      <th>5</th>\n",
       "      <td>B</td>\n",
       "      <td>2015</td>\n",
       "      <td>5</td>\n",
       "      <td>7</td>\n",
       "    </tr>\n",
       "    <tr>\n",
       "      <th>7</th>\n",
       "      <td>A</td>\n",
       "      <td>2017</td>\n",
       "      <td>4</td>\n",
       "      <td>7</td>\n",
       "    </tr>\n",
       "  </tbody>\n",
       "</table>\n",
       "</div>"
      ],
      "text/plain": [
       "  group  year  value_1  value_2\n",
       "5     B  2015        5        7\n",
       "7     A  2017        4        7"
      ]
     },
     "execution_count": 6,
     "metadata": {},
     "output_type": "execute_result"
    }
   ],
   "source": [
    "df.query('value_1 < value_2')"
   ]
  },
  {
   "cell_type": "markdown",
   "metadata": {
    "id": "hHVsk_pyUTMy"
   },
   "source": [
    "## Insert"
   ]
  },
  {
   "cell_type": "code",
   "execution_count": 7,
   "metadata": {
    "colab": {
     "base_uri": "https://localhost:8080/"
    },
    "executionInfo": {
     "elapsed": 732,
     "status": "ok",
     "timestamp": 1606677260454,
     "user": {
      "displayName": "Clive Drowley",
      "photoUrl": "https://lh3.googleusercontent.com/a-/AOh14GiMNBUScpz6uK1OoAP_wiX3V1hNMKU7OdlT-d-7=s64",
      "userId": "08192785469387199056"
     },
     "user_tz": 0
    },
    "id": "P8EAblczUi2S",
    "outputId": "d1182dfd-273f-4674-83bc-da4971af2503"
   },
   "outputs": [
    {
     "data": {
      "text/html": [
       "<div>\n",
       "<style scoped>\n",
       "    .dataframe tbody tr th:only-of-type {\n",
       "        vertical-align: middle;\n",
       "    }\n",
       "\n",
       "    .dataframe tbody tr th {\n",
       "        vertical-align: top;\n",
       "    }\n",
       "\n",
       "    .dataframe thead th {\n",
       "        text-align: right;\n",
       "    }\n",
       "</style>\n",
       "<table border=\"1\" class=\"dataframe\">\n",
       "  <thead>\n",
       "    <tr style=\"text-align: right;\">\n",
       "      <th></th>\n",
       "      <th>group</th>\n",
       "      <th>year</th>\n",
       "      <th>new_col</th>\n",
       "      <th>value_1</th>\n",
       "      <th>value_2</th>\n",
       "    </tr>\n",
       "  </thead>\n",
       "  <tbody>\n",
       "    <tr>\n",
       "      <th>0</th>\n",
       "      <td>A</td>\n",
       "      <td>2010</td>\n",
       "      <td>0.290028</td>\n",
       "      <td>4</td>\n",
       "      <td>3</td>\n",
       "    </tr>\n",
       "    <tr>\n",
       "      <th>1</th>\n",
       "      <td>A</td>\n",
       "      <td>2011</td>\n",
       "      <td>1.199504</td>\n",
       "      <td>9</td>\n",
       "      <td>8</td>\n",
       "    </tr>\n",
       "    <tr>\n",
       "      <th>2</th>\n",
       "      <td>B</td>\n",
       "      <td>2012</td>\n",
       "      <td>2.049152</td>\n",
       "      <td>4</td>\n",
       "      <td>3</td>\n",
       "    </tr>\n",
       "    <tr>\n",
       "      <th>3</th>\n",
       "      <td>A</td>\n",
       "      <td>2013</td>\n",
       "      <td>1.667381</td>\n",
       "      <td>6</td>\n",
       "      <td>5</td>\n",
       "    </tr>\n",
       "    <tr>\n",
       "      <th>4</th>\n",
       "      <td>B</td>\n",
       "      <td>2014</td>\n",
       "      <td>0.561014</td>\n",
       "      <td>7</td>\n",
       "      <td>6</td>\n",
       "    </tr>\n",
       "    <tr>\n",
       "      <th>5</th>\n",
       "      <td>B</td>\n",
       "      <td>2015</td>\n",
       "      <td>0.575000</td>\n",
       "      <td>5</td>\n",
       "      <td>7</td>\n",
       "    </tr>\n",
       "    <tr>\n",
       "      <th>6</th>\n",
       "      <td>C</td>\n",
       "      <td>2016</td>\n",
       "      <td>0.190302</td>\n",
       "      <td>4</td>\n",
       "      <td>4</td>\n",
       "    </tr>\n",
       "    <tr>\n",
       "      <th>7</th>\n",
       "      <td>A</td>\n",
       "      <td>2017</td>\n",
       "      <td>1.009683</td>\n",
       "      <td>4</td>\n",
       "      <td>7</td>\n",
       "    </tr>\n",
       "    <tr>\n",
       "      <th>8</th>\n",
       "      <td>C</td>\n",
       "      <td>2018</td>\n",
       "      <td>0.526133</td>\n",
       "      <td>0</td>\n",
       "      <td>0</td>\n",
       "    </tr>\n",
       "    <tr>\n",
       "      <th>9</th>\n",
       "      <td>C</td>\n",
       "      <td>2019</td>\n",
       "      <td>-2.253152</td>\n",
       "      <td>8</td>\n",
       "      <td>1</td>\n",
       "    </tr>\n",
       "  </tbody>\n",
       "</table>\n",
       "</div>"
      ],
      "text/plain": [
       "  group  year   new_col  value_1  value_2\n",
       "0     A  2010  0.290028        4        3\n",
       "1     A  2011  1.199504        9        8\n",
       "2     B  2012  2.049152        4        3\n",
       "3     A  2013  1.667381        6        5\n",
       "4     B  2014  0.561014        7        6\n",
       "5     B  2015  0.575000        5        7\n",
       "6     C  2016  0.190302        4        4\n",
       "7     A  2017  1.009683        4        7\n",
       "8     C  2018  0.526133        0        0\n",
       "9     C  2019 -2.253152        8        1"
      ]
     },
     "execution_count": 7,
     "metadata": {},
     "output_type": "execute_result"
    }
   ],
   "source": [
    "#new column\n",
    "new_col = np.random.randn(10)\n",
    "\n",
    "#insert the new column at position 2\n",
    "df.insert(2, 'new_col', new_col)\n",
    "df\n",
    "\n",
    "# We need to specify the position by passing an index as first argument. \n",
    "# This value must be an integer. Column indices start from zero just like row indices. \n",
    "# The second argument is column name and the third argument is the object that includes values which can be Series or an array-like object."
   ]
  },
  {
   "cell_type": "markdown",
   "metadata": {
    "id": "-7VpftHmWSP9"
   },
   "source": [
    "## Cumsum"
   ]
  },
  {
   "cell_type": "code",
   "execution_count": 12,
   "metadata": {
    "colab": {
     "base_uri": "https://localhost:8080/"
    },
    "executionInfo": {
     "elapsed": 727,
     "status": "ok",
     "timestamp": 1606677260456,
     "user": {
      "displayName": "Clive Drowley",
      "photoUrl": "https://lh3.googleusercontent.com/a-/AOh14GiMNBUScpz6uK1OoAP_wiX3V1hNMKU7OdlT-d-7=s64",
      "userId": "08192785469387199056"
     },
     "user_tz": 0
    },
    "id": "iZLxGY7LWVXW",
    "outputId": "c83a094e-aefc-4c76-eee0-495b4311a967"
   },
   "outputs": [
    {
     "data": {
      "text/html": [
       "<div>\n",
       "<style scoped>\n",
       "    .dataframe tbody tr th:only-of-type {\n",
       "        vertical-align: middle;\n",
       "    }\n",
       "\n",
       "    .dataframe tbody tr th {\n",
       "        vertical-align: top;\n",
       "    }\n",
       "\n",
       "    .dataframe thead th {\n",
       "        text-align: right;\n",
       "    }\n",
       "</style>\n",
       "<table border=\"1\" class=\"dataframe\">\n",
       "  <thead>\n",
       "    <tr style=\"text-align: right;\">\n",
       "      <th></th>\n",
       "      <th>group</th>\n",
       "      <th>year</th>\n",
       "      <th>new_col</th>\n",
       "      <th>value_1</th>\n",
       "      <th>value_2</th>\n",
       "      <th>cumsum_2</th>\n",
       "    </tr>\n",
       "  </thead>\n",
       "  <tbody>\n",
       "    <tr>\n",
       "      <th>0</th>\n",
       "      <td>A</td>\n",
       "      <td>2010</td>\n",
       "      <td>0.290028</td>\n",
       "      <td>4</td>\n",
       "      <td>3</td>\n",
       "      <td>3</td>\n",
       "    </tr>\n",
       "    <tr>\n",
       "      <th>1</th>\n",
       "      <td>A</td>\n",
       "      <td>2011</td>\n",
       "      <td>1.199504</td>\n",
       "      <td>9</td>\n",
       "      <td>8</td>\n",
       "      <td>11</td>\n",
       "    </tr>\n",
       "    <tr>\n",
       "      <th>3</th>\n",
       "      <td>A</td>\n",
       "      <td>2013</td>\n",
       "      <td>1.667381</td>\n",
       "      <td>6</td>\n",
       "      <td>5</td>\n",
       "      <td>16</td>\n",
       "    </tr>\n",
       "    <tr>\n",
       "      <th>7</th>\n",
       "      <td>A</td>\n",
       "      <td>2017</td>\n",
       "      <td>1.009683</td>\n",
       "      <td>4</td>\n",
       "      <td>7</td>\n",
       "      <td>23</td>\n",
       "    </tr>\n",
       "    <tr>\n",
       "      <th>2</th>\n",
       "      <td>B</td>\n",
       "      <td>2012</td>\n",
       "      <td>2.049152</td>\n",
       "      <td>4</td>\n",
       "      <td>3</td>\n",
       "      <td>3</td>\n",
       "    </tr>\n",
       "    <tr>\n",
       "      <th>4</th>\n",
       "      <td>B</td>\n",
       "      <td>2014</td>\n",
       "      <td>0.561014</td>\n",
       "      <td>7</td>\n",
       "      <td>6</td>\n",
       "      <td>9</td>\n",
       "    </tr>\n",
       "    <tr>\n",
       "      <th>5</th>\n",
       "      <td>B</td>\n",
       "      <td>2015</td>\n",
       "      <td>0.575000</td>\n",
       "      <td>5</td>\n",
       "      <td>7</td>\n",
       "      <td>16</td>\n",
       "    </tr>\n",
       "    <tr>\n",
       "      <th>6</th>\n",
       "      <td>C</td>\n",
       "      <td>2016</td>\n",
       "      <td>0.190302</td>\n",
       "      <td>4</td>\n",
       "      <td>4</td>\n",
       "      <td>4</td>\n",
       "    </tr>\n",
       "    <tr>\n",
       "      <th>8</th>\n",
       "      <td>C</td>\n",
       "      <td>2018</td>\n",
       "      <td>0.526133</td>\n",
       "      <td>0</td>\n",
       "      <td>0</td>\n",
       "      <td>4</td>\n",
       "    </tr>\n",
       "    <tr>\n",
       "      <th>9</th>\n",
       "      <td>C</td>\n",
       "      <td>2019</td>\n",
       "      <td>-2.253152</td>\n",
       "      <td>8</td>\n",
       "      <td>1</td>\n",
       "      <td>5</td>\n",
       "    </tr>\n",
       "  </tbody>\n",
       "</table>\n",
       "</div>"
      ],
      "text/plain": [
       "  group  year   new_col  value_1  value_2  cumsum_2\n",
       "0     A  2010  0.290028        4        3         3\n",
       "1     A  2011  1.199504        9        8        11\n",
       "3     A  2013  1.667381        6        5        16\n",
       "7     A  2017  1.009683        4        7        23\n",
       "2     B  2012  2.049152        4        3         3\n",
       "4     B  2014  0.561014        7        6         9\n",
       "5     B  2015  0.575000        5        7        16\n",
       "6     C  2016  0.190302        4        4         4\n",
       "8     C  2018  0.526133        0        0         4\n",
       "9     C  2019 -2.253152        8        1         5"
      ]
     },
     "execution_count": 12,
     "metadata": {},
     "output_type": "execute_result"
    }
   ],
   "source": [
    "df['cumsum_2'] = df[['value_2','group']].groupby('group').cumsum()\n",
    "df.sort_values(['group', 'cumsum_2'])"
   ]
  },
  {
   "cell_type": "markdown",
   "metadata": {
    "id": "d6bMcrFIWR6Z"
   },
   "source": [
    "## Sample"
   ]
  },
  {
   "cell_type": "code",
   "execution_count": 13,
   "metadata": {
    "colab": {
     "base_uri": "https://localhost:8080/"
    },
    "executionInfo": {
     "elapsed": 719,
     "status": "ok",
     "timestamp": 1606677260457,
     "user": {
      "displayName": "Clive Drowley",
      "photoUrl": "https://lh3.googleusercontent.com/a-/AOh14GiMNBUScpz6uK1OoAP_wiX3V1hNMKU7OdlT-d-7=s64",
      "userId": "08192785469387199056"
     },
     "user_tz": 0
    },
    "id": "5fLQ8I1OWk0o",
    "outputId": "c9a43a2b-cdcd-4739-fb35-f9395bd77ba6"
   },
   "outputs": [
    {
     "data": {
      "text/html": [
       "<div>\n",
       "<style scoped>\n",
       "    .dataframe tbody tr th:only-of-type {\n",
       "        vertical-align: middle;\n",
       "    }\n",
       "\n",
       "    .dataframe tbody tr th {\n",
       "        vertical-align: top;\n",
       "    }\n",
       "\n",
       "    .dataframe thead th {\n",
       "        text-align: right;\n",
       "    }\n",
       "</style>\n",
       "<table border=\"1\" class=\"dataframe\">\n",
       "  <thead>\n",
       "    <tr style=\"text-align: right;\">\n",
       "      <th></th>\n",
       "      <th>group</th>\n",
       "      <th>year</th>\n",
       "      <th>new_col</th>\n",
       "      <th>value_1</th>\n",
       "      <th>value_2</th>\n",
       "      <th>cumsum_2</th>\n",
       "    </tr>\n",
       "  </thead>\n",
       "  <tbody>\n",
       "    <tr>\n",
       "      <th>7</th>\n",
       "      <td>A</td>\n",
       "      <td>2017</td>\n",
       "      <td>1.009683</td>\n",
       "      <td>4</td>\n",
       "      <td>7</td>\n",
       "      <td>23</td>\n",
       "    </tr>\n",
       "    <tr>\n",
       "      <th>6</th>\n",
       "      <td>C</td>\n",
       "      <td>2016</td>\n",
       "      <td>0.190302</td>\n",
       "      <td>4</td>\n",
       "      <td>4</td>\n",
       "      <td>4</td>\n",
       "    </tr>\n",
       "    <tr>\n",
       "      <th>4</th>\n",
       "      <td>B</td>\n",
       "      <td>2014</td>\n",
       "      <td>0.561014</td>\n",
       "      <td>7</td>\n",
       "      <td>6</td>\n",
       "      <td>9</td>\n",
       "    </tr>\n",
       "  </tbody>\n",
       "</table>\n",
       "</div>"
      ],
      "text/plain": [
       "  group  year   new_col  value_1  value_2  cumsum_2\n",
       "7     A  2017  1.009683        4        7        23\n",
       "6     C  2016  0.190302        4        4         4\n",
       "4     B  2014  0.561014        7        6         9"
      ]
     },
     "execution_count": 13,
     "metadata": {},
     "output_type": "execute_result"
    }
   ],
   "source": [
    "sample1 = df.sample(n=3)\n",
    "sample1"
   ]
  },
  {
   "cell_type": "markdown",
   "metadata": {
    "id": "iwrFUVUaWRiQ"
   },
   "source": [
    "## Where"
   ]
  },
  {
   "cell_type": "code",
   "execution_count": null,
   "metadata": {
    "colab": {
     "base_uri": "https://localhost:8080/"
    },
    "executionInfo": {
     "elapsed": 713,
     "status": "ok",
     "timestamp": 1606677260459,
     "user": {
      "displayName": "Clive Drowley",
      "photoUrl": "https://lh3.googleusercontent.com/a-/AOh14GiMNBUScpz6uK1OoAP_wiX3V1hNMKU7OdlT-d-7=s64",
      "userId": "08192785469387199056"
     },
     "user_tz": 0
    },
    "id": "1HvINh-SWpWx",
    "outputId": "0858052f-e66c-4fea-9b7c-0535b0429851"
   },
   "outputs": [
    {
     "data": {
      "text/plain": [
       "array([0.        , 0.        , 0.        , 0.        , 1.15689423,\n",
       "       0.        , 0.10372176, 0.        , 0.        , 0.        ])"
      ]
     },
     "execution_count": 45,
     "metadata": {
      "tags": []
     },
     "output_type": "execute_result"
    }
   ],
   "source": [
    "# “Where” is used to replace values in rows or columns based on a condition.\n",
    "# The default replacement values is NaN but we can also specify the value to be put as a replacement.\n",
    "\n",
    "# The way “where” works is that values that fit the condition are selected and the remaining values are replaced with the specified value. where(df[‘new_col’]>0, 0) selects all the values in “new_col” that are greater than 0 and the remaining values are replaced with 0. Thus, where can also be considered as a mask operation.\n",
    "# One important point is that “where” for Pandas and NumPy are not exactly the same. We can achieve the same result but with slightly different syntax. With DataFrame.where, the values that fit the condition are selected as is and the other values are replaced with the specified value. Np.where requires to also specify the value for the ones that fit the condition. The following two lines return the same result:\n",
    "\n",
    "df['new_col'].where(df['new_col'] > 0 , 0)\n",
    "np.where(df['new_col'] > 0, df['new_col'], 0)"
   ]
  },
  {
   "cell_type": "markdown",
   "metadata": {
    "id": "cuqzQ5mBWQ0j"
   },
   "source": [
    "## Isin"
   ]
  },
  {
   "cell_type": "code",
   "execution_count": null,
   "metadata": {
    "colab": {
     "base_uri": "https://localhost:8080/"
    },
    "executionInfo": {
     "elapsed": 1033,
     "status": "ok",
     "timestamp": 1606677260784,
     "user": {
      "displayName": "Clive Drowley",
      "photoUrl": "https://lh3.googleusercontent.com/a-/AOh14GiMNBUScpz6uK1OoAP_wiX3V1hNMKU7OdlT-d-7=s64",
      "userId": "08192785469387199056"
     },
     "user_tz": 0
    },
    "id": "gNieNgHcXN7x",
    "outputId": "1d4f02cf-00cf-4fce-dd33-7c7623342f13"
   },
   "outputs": [
    {
     "data": {
      "text/html": [
       "<div>\n",
       "<style scoped>\n",
       "    .dataframe tbody tr th:only-of-type {\n",
       "        vertical-align: middle;\n",
       "    }\n",
       "\n",
       "    .dataframe tbody tr th {\n",
       "        vertical-align: top;\n",
       "    }\n",
       "\n",
       "    .dataframe thead th {\n",
       "        text-align: right;\n",
       "    }\n",
       "</style>\n",
       "<table border=\"1\" class=\"dataframe\">\n",
       "  <thead>\n",
       "    <tr style=\"text-align: right;\">\n",
       "      <th></th>\n",
       "      <th>group</th>\n",
       "      <th>year</th>\n",
       "      <th>new_col</th>\n",
       "      <th>value_1</th>\n",
       "      <th>value_2</th>\n",
       "      <th>cumsum_2</th>\n",
       "    </tr>\n",
       "  </thead>\n",
       "  <tbody>\n",
       "    <tr>\n",
       "      <th>0</th>\n",
       "      <td>A</td>\n",
       "      <td>2010</td>\n",
       "      <td>-0.943155</td>\n",
       "      <td>9</td>\n",
       "      <td>7</td>\n",
       "      <td>7</td>\n",
       "    </tr>\n",
       "    <tr>\n",
       "      <th>4</th>\n",
       "      <td>B</td>\n",
       "      <td>2014</td>\n",
       "      <td>1.156894</td>\n",
       "      <td>6</td>\n",
       "      <td>3</td>\n",
       "      <td>12</td>\n",
       "    </tr>\n",
       "    <tr>\n",
       "      <th>7</th>\n",
       "      <td>A</td>\n",
       "      <td>2017</td>\n",
       "      <td>-0.726145</td>\n",
       "      <td>9</td>\n",
       "      <td>1</td>\n",
       "      <td>19</td>\n",
       "    </tr>\n",
       "  </tbody>\n",
       "</table>\n",
       "</div>"
      ],
      "text/plain": [
       "  group  year   new_col  value_1  value_2  cumsum_2\n",
       "0     A  2010 -0.943155        9        7         7\n",
       "4     B  2014  1.156894        6        3        12\n",
       "7     A  2017 -0.726145        9        1        19"
      ]
     },
     "execution_count": 46,
     "metadata": {
      "tags": []
     },
     "output_type": "execute_result"
    }
   ],
   "source": [
    "# We use filtering or selecting methods a lot when working with dataframes.\n",
    "\n",
    "# Isin method is kind of an advanced filtering. For example, we can filter values based on a list of selections.\n",
    "years = ['2010','2014','2017']\n",
    "df[df.year.isin(years)]"
   ]
  },
  {
   "cell_type": "markdown",
   "metadata": {
    "id": "z-7DfuSKXL2e"
   },
   "source": [
    "## Loc and iloc"
   ]
  },
  {
   "cell_type": "markdown",
   "metadata": {
    "id": "NnwR6pMJXW2K"
   },
   "source": [
    "Loc and iloc are used to select rows and columns.\n",
    "\n",
    "*   loc: select by labels\n",
    "*   iloc: select by positions\n",
    "\n",
    "loc is used to select data by label. The labels of columns are the column names. We need to be careful about row labels. If we do not assign any specific indices, pandas created integer index by default. Thus, the row labels are integers starting from 0 and going up. The row positions that are used with iloc are also integers starting from 0."
   ]
  },
  {
   "cell_type": "code",
   "execution_count": null,
   "metadata": {
    "colab": {
     "base_uri": "https://localhost:8080/"
    },
    "executionInfo": {
     "elapsed": 1027,
     "status": "ok",
     "timestamp": 1606677260786,
     "user": {
      "displayName": "Clive Drowley",
      "photoUrl": "https://lh3.googleusercontent.com/a-/AOh14GiMNBUScpz6uK1OoAP_wiX3V1hNMKU7OdlT-d-7=s64",
      "userId": "08192785469387199056"
     },
     "user_tz": 0
    },
    "id": "OfslrlROXnRE",
    "outputId": "2ac41cae-9f56-4d07-b4f0-c37b34141485"
   },
   "outputs": [
    {
     "data": {
      "text/html": [
       "<div>\n",
       "<style scoped>\n",
       "    .dataframe tbody tr th:only-of-type {\n",
       "        vertical-align: middle;\n",
       "    }\n",
       "\n",
       "    .dataframe tbody tr th {\n",
       "        vertical-align: top;\n",
       "    }\n",
       "\n",
       "    .dataframe thead th {\n",
       "        text-align: right;\n",
       "    }\n",
       "</style>\n",
       "<table border=\"1\" class=\"dataframe\">\n",
       "  <thead>\n",
       "    <tr style=\"text-align: right;\">\n",
       "      <th></th>\n",
       "      <th>group</th>\n",
       "      <th>year</th>\n",
       "    </tr>\n",
       "  </thead>\n",
       "  <tbody>\n",
       "    <tr>\n",
       "      <th>0</th>\n",
       "      <td>A</td>\n",
       "      <td>2010</td>\n",
       "    </tr>\n",
       "    <tr>\n",
       "      <th>1</th>\n",
       "      <td>A</td>\n",
       "      <td>2011</td>\n",
       "    </tr>\n",
       "    <tr>\n",
       "      <th>2</th>\n",
       "      <td>B</td>\n",
       "      <td>2012</td>\n",
       "    </tr>\n",
       "  </tbody>\n",
       "</table>\n",
       "</div>"
      ],
      "text/plain": [
       "  group  year\n",
       "0     A  2010\n",
       "1     A  2011\n",
       "2     B  2012"
      ]
     },
     "execution_count": 47,
     "metadata": {
      "tags": []
     },
     "output_type": "execute_result"
    }
   ],
   "source": [
    "# Selecting first 3 rows and first 2 columns with iloc:\n",
    "df.iloc[:3, :2]"
   ]
  },
  {
   "cell_type": "code",
   "execution_count": null,
   "metadata": {
    "colab": {
     "base_uri": "https://localhost:8080/"
    },
    "executionInfo": {
     "elapsed": 1021,
     "status": "ok",
     "timestamp": 1606677260787,
     "user": {
      "displayName": "Clive Drowley",
      "photoUrl": "https://lh3.googleusercontent.com/a-/AOh14GiMNBUScpz6uK1OoAP_wiX3V1hNMKU7OdlT-d-7=s64",
      "userId": "08192785469387199056"
     },
     "user_tz": 0
    },
    "id": "0NaQXLfVXNpP",
    "outputId": "d9115b42-1aeb-405b-f252-0d4f9960dd3b"
   },
   "outputs": [
    {
     "data": {
      "text/html": [
       "<div>\n",
       "<style scoped>\n",
       "    .dataframe tbody tr th:only-of-type {\n",
       "        vertical-align: middle;\n",
       "    }\n",
       "\n",
       "    .dataframe tbody tr th {\n",
       "        vertical-align: top;\n",
       "    }\n",
       "\n",
       "    .dataframe thead th {\n",
       "        text-align: right;\n",
       "    }\n",
       "</style>\n",
       "<table border=\"1\" class=\"dataframe\">\n",
       "  <thead>\n",
       "    <tr style=\"text-align: right;\">\n",
       "      <th></th>\n",
       "      <th>group</th>\n",
       "      <th>year</th>\n",
       "    </tr>\n",
       "  </thead>\n",
       "  <tbody>\n",
       "    <tr>\n",
       "      <th>0</th>\n",
       "      <td>A</td>\n",
       "      <td>2010</td>\n",
       "    </tr>\n",
       "    <tr>\n",
       "      <th>1</th>\n",
       "      <td>A</td>\n",
       "      <td>2011</td>\n",
       "    </tr>\n",
       "    <tr>\n",
       "      <th>2</th>\n",
       "      <td>B</td>\n",
       "      <td>2012</td>\n",
       "    </tr>\n",
       "  </tbody>\n",
       "</table>\n",
       "</div>"
      ],
      "text/plain": [
       "  group  year\n",
       "0     A  2010\n",
       "1     A  2011\n",
       "2     B  2012"
      ]
     },
     "execution_count": 48,
     "metadata": {
      "tags": []
     },
     "output_type": "execute_result"
    }
   ],
   "source": [
    "# Selecting first 3 rows and first 2 columns with loc:\n",
    "df.loc[:2, ['group', 'year']]"
   ]
  },
  {
   "cell_type": "code",
   "execution_count": null,
   "metadata": {
    "colab": {
     "base_uri": "https://localhost:8080/"
    },
    "executionInfo": {
     "elapsed": 1013,
     "status": "ok",
     "timestamp": 1606677260788,
     "user": {
      "displayName": "Clive Drowley",
      "photoUrl": "https://lh3.googleusercontent.com/a-/AOh14GiMNBUScpz6uK1OoAP_wiX3V1hNMKU7OdlT-d-7=s64",
      "userId": "08192785469387199056"
     },
     "user_tz": 0
    },
    "id": "ySgxLWkVX_NZ",
    "outputId": "ef10bc31-4916-4022-855c-35fd130b7983"
   },
   "outputs": [
    {
     "data": {
      "text/html": [
       "<div>\n",
       "<style scoped>\n",
       "    .dataframe tbody tr th:only-of-type {\n",
       "        vertical-align: middle;\n",
       "    }\n",
       "\n",
       "    .dataframe tbody tr th {\n",
       "        vertical-align: top;\n",
       "    }\n",
       "\n",
       "    .dataframe thead th {\n",
       "        text-align: right;\n",
       "    }\n",
       "</style>\n",
       "<table border=\"1\" class=\"dataframe\">\n",
       "  <thead>\n",
       "    <tr style=\"text-align: right;\">\n",
       "      <th></th>\n",
       "      <th>year</th>\n",
       "      <th>value_1</th>\n",
       "    </tr>\n",
       "  </thead>\n",
       "  <tbody>\n",
       "    <tr>\n",
       "      <th>1</th>\n",
       "      <td>2011</td>\n",
       "      <td>8</td>\n",
       "    </tr>\n",
       "    <tr>\n",
       "      <th>3</th>\n",
       "      <td>2013</td>\n",
       "      <td>5</td>\n",
       "    </tr>\n",
       "    <tr>\n",
       "      <th>5</th>\n",
       "      <td>2015</td>\n",
       "      <td>6</td>\n",
       "    </tr>\n",
       "  </tbody>\n",
       "</table>\n",
       "</div>"
      ],
      "text/plain": [
       "   year  value_1\n",
       "1  2011        8\n",
       "3  2013        5\n",
       "5  2015        6"
      ]
     },
     "execution_count": 49,
     "metadata": {
      "tags": []
     },
     "output_type": "execute_result"
    }
   ],
   "source": [
    "# Note: Upper boundaries of indices are included when loc is used whereas they are excluded with iloc.\n",
    "\n",
    "# Selecting rows “1”, “3”, “5” and columns “year” and “value_1”:\n",
    "df.loc[[1,3,5], ['year', 'value_1']]"
   ]
  },
  {
   "cell_type": "markdown",
   "metadata": {
    "id": "DuqB0FaGXLD9"
   },
   "source": [
    "## Pct_change"
   ]
  },
  {
   "cell_type": "markdown",
   "metadata": {
    "id": "TgUbqxyUYaPZ"
   },
   "source": [
    "This function is used to calculate the percent change through the values in a series. Consider we have a series that contains [2,3,6]. If we apply pct_change to this series, the returned series will be [NaN, 0.5, 1.0]. \n",
    "\n",
    "There is 50% increase from the first element to the second and 100% from the second to the third one. Pct_change function is useful in comparing the percentage of change in a time series of elements."
   ]
  },
  {
   "cell_type": "code",
   "execution_count": null,
   "metadata": {
    "colab": {
     "base_uri": "https://localhost:8080/"
    },
    "executionInfo": {
     "elapsed": 1007,
     "status": "ok",
     "timestamp": 1606677260789,
     "user": {
      "displayName": "Clive Drowley",
      "photoUrl": "https://lh3.googleusercontent.com/a-/AOh14GiMNBUScpz6uK1OoAP_wiX3V1hNMKU7OdlT-d-7=s64",
      "userId": "08192785469387199056"
     },
     "user_tz": 0
    },
    "id": "HYVNt_RVYZH8",
    "outputId": "9f96dfad-baad-4656-fb4e-9df673e51955"
   },
   "outputs": [
    {
     "data": {
      "text/plain": [
       "0         NaN\n",
       "1   -0.111111\n",
       "2   -0.375000\n",
       "3    0.000000\n",
       "4    0.200000\n",
       "5    0.000000\n",
       "6   -0.500000\n",
       "7    2.000000\n",
       "8   -0.888889\n",
       "9    2.000000\n",
       "Name: value_1, dtype: float64"
      ]
     },
     "execution_count": 50,
     "metadata": {
      "tags": []
     },
     "output_type": "execute_result"
    }
   ],
   "source": [
    "df.value_1.pct_change()"
   ]
  },
  {
   "cell_type": "markdown",
   "metadata": {
    "id": "CeqvimxzXJl-"
   },
   "source": [
    "## Rank\n"
   ]
  },
  {
   "cell_type": "markdown",
   "metadata": {
    "id": "MGTDrzGNb2NN"
   },
   "source": [
    "Rank function assigns rank to the values. Assume we have a series s that contains [1,7,5,3]. The ranks assigned to these values will be [1,4,3,2]."
   ]
  },
  {
   "cell_type": "code",
   "execution_count": null,
   "metadata": {
    "colab": {
     "base_uri": "https://localhost:8080/",
     "height": 343
    },
    "executionInfo": {
     "elapsed": 1002,
     "status": "ok",
     "timestamp": 1606677260790,
     "user": {
      "displayName": "Clive Drowley",
      "photoUrl": "https://lh3.googleusercontent.com/a-/AOh14GiMNBUScpz6uK1OoAP_wiX3V1hNMKU7OdlT-d-7=s64",
      "userId": "08192785469387199056"
     },
     "user_tz": 0
    },
    "id": "Zl-yDF_3XNAg",
    "outputId": "8cd0e33a-fe67-4d4a-94cc-fcef54ab8ab3"
   },
   "outputs": [
    {
     "data": {
      "text/html": [
       "<div>\n",
       "<style scoped>\n",
       "    .dataframe tbody tr th:only-of-type {\n",
       "        vertical-align: middle;\n",
       "    }\n",
       "\n",
       "    .dataframe tbody tr th {\n",
       "        vertical-align: top;\n",
       "    }\n",
       "\n",
       "    .dataframe thead th {\n",
       "        text-align: right;\n",
       "    }\n",
       "</style>\n",
       "<table border=\"1\" class=\"dataframe\">\n",
       "  <thead>\n",
       "    <tr style=\"text-align: right;\">\n",
       "      <th></th>\n",
       "      <th>group</th>\n",
       "      <th>year</th>\n",
       "      <th>new_col</th>\n",
       "      <th>value_1</th>\n",
       "      <th>value_2</th>\n",
       "      <th>cumsum_2</th>\n",
       "      <th>rank_1</th>\n",
       "    </tr>\n",
       "  </thead>\n",
       "  <tbody>\n",
       "    <tr>\n",
       "      <th>0</th>\n",
       "      <td>A</td>\n",
       "      <td>2010</td>\n",
       "      <td>-0.943155</td>\n",
       "      <td>9</td>\n",
       "      <td>7</td>\n",
       "      <td>7</td>\n",
       "      <td>9.5</td>\n",
       "    </tr>\n",
       "    <tr>\n",
       "      <th>1</th>\n",
       "      <td>A</td>\n",
       "      <td>2011</td>\n",
       "      <td>-1.338546</td>\n",
       "      <td>8</td>\n",
       "      <td>4</td>\n",
       "      <td>11</td>\n",
       "      <td>8.0</td>\n",
       "    </tr>\n",
       "    <tr>\n",
       "      <th>2</th>\n",
       "      <td>B</td>\n",
       "      <td>2012</td>\n",
       "      <td>-1.550581</td>\n",
       "      <td>5</td>\n",
       "      <td>9</td>\n",
       "      <td>9</td>\n",
       "      <td>4.5</td>\n",
       "    </tr>\n",
       "    <tr>\n",
       "      <th>3</th>\n",
       "      <td>A</td>\n",
       "      <td>2013</td>\n",
       "      <td>-1.091030</td>\n",
       "      <td>5</td>\n",
       "      <td>7</td>\n",
       "      <td>18</td>\n",
       "      <td>4.5</td>\n",
       "    </tr>\n",
       "    <tr>\n",
       "      <th>4</th>\n",
       "      <td>B</td>\n",
       "      <td>2014</td>\n",
       "      <td>1.156894</td>\n",
       "      <td>6</td>\n",
       "      <td>3</td>\n",
       "      <td>12</td>\n",
       "      <td>6.5</td>\n",
       "    </tr>\n",
       "    <tr>\n",
       "      <th>5</th>\n",
       "      <td>B</td>\n",
       "      <td>2015</td>\n",
       "      <td>-0.094821</td>\n",
       "      <td>6</td>\n",
       "      <td>6</td>\n",
       "      <td>18</td>\n",
       "      <td>6.5</td>\n",
       "    </tr>\n",
       "    <tr>\n",
       "      <th>6</th>\n",
       "      <td>C</td>\n",
       "      <td>2016</td>\n",
       "      <td>0.103722</td>\n",
       "      <td>3</td>\n",
       "      <td>2</td>\n",
       "      <td>2</td>\n",
       "      <td>2.5</td>\n",
       "    </tr>\n",
       "    <tr>\n",
       "      <th>7</th>\n",
       "      <td>A</td>\n",
       "      <td>2017</td>\n",
       "      <td>-0.726145</td>\n",
       "      <td>9</td>\n",
       "      <td>1</td>\n",
       "      <td>19</td>\n",
       "      <td>9.5</td>\n",
       "    </tr>\n",
       "    <tr>\n",
       "      <th>8</th>\n",
       "      <td>C</td>\n",
       "      <td>2018</td>\n",
       "      <td>-0.952616</td>\n",
       "      <td>1</td>\n",
       "      <td>3</td>\n",
       "      <td>5</td>\n",
       "      <td>1.0</td>\n",
       "    </tr>\n",
       "    <tr>\n",
       "      <th>9</th>\n",
       "      <td>C</td>\n",
       "      <td>2019</td>\n",
       "      <td>-1.407730</td>\n",
       "      <td>3</td>\n",
       "      <td>6</td>\n",
       "      <td>11</td>\n",
       "      <td>2.5</td>\n",
       "    </tr>\n",
       "  </tbody>\n",
       "</table>\n",
       "</div>"
      ],
      "text/plain": [
       "  group  year   new_col  value_1  value_2  cumsum_2  rank_1\n",
       "0     A  2010 -0.943155        9        7         7     9.5\n",
       "1     A  2011 -1.338546        8        4        11     8.0\n",
       "2     B  2012 -1.550581        5        9         9     4.5\n",
       "3     A  2013 -1.091030        5        7        18     4.5\n",
       "4     B  2014  1.156894        6        3        12     6.5\n",
       "5     B  2015 -0.094821        6        6        18     6.5\n",
       "6     C  2016  0.103722        3        2         2     2.5\n",
       "7     A  2017 -0.726145        9        1        19     9.5\n",
       "8     C  2018 -0.952616        1        3         5     1.0\n",
       "9     C  2019 -1.407730        3        6        11     2.5"
      ]
     },
     "execution_count": 51,
     "metadata": {
      "tags": []
     },
     "output_type": "execute_result"
    }
   ],
   "source": [
    "df['rank_1'] = df['value_1'].rank()\n",
    "df"
   ]
  },
  {
   "cell_type": "markdown",
   "metadata": {
    "id": "QOQN3KkAYpKY"
   },
   "source": [
    "## Melt"
   ]
  },
  {
   "cell_type": "markdown",
   "metadata": {
    "id": "eByw7NOnb54V"
   },
   "source": [
    "Melt is used to convert wide dataframes to narrow ones. What I mean by wide is a dataframe with a high number of columns. Some dataframes are structured in a way that consecutive measurements or variables are represented as columns. In some cases, representing these columns as rows may fit better to our task. Consider the following dataframe:"
   ]
  },
  {
   "cell_type": "code",
   "execution_count": null,
   "metadata": {
    "colab": {
     "base_uri": "https://localhost:8080/",
     "height": 136
    },
    "executionInfo": {
     "elapsed": 992,
     "status": "ok",
     "timestamp": 1606677260790,
     "user": {
      "displayName": "Clive Drowley",
      "photoUrl": "https://lh3.googleusercontent.com/a-/AOh14GiMNBUScpz6uK1OoAP_wiX3V1hNMKU7OdlT-d-7=s64",
      "userId": "08192785469387199056"
     },
     "user_tz": 0
    },
    "id": "X6I4gXc5Yqzr",
    "outputId": "ce3ccb94-6e91-4b05-a01b-db490b1ebd4b"
   },
   "outputs": [
    {
     "data": {
      "text/html": [
       "<div>\n",
       "<style scoped>\n",
       "    .dataframe tbody tr th:only-of-type {\n",
       "        vertical-align: middle;\n",
       "    }\n",
       "\n",
       "    .dataframe tbody tr th {\n",
       "        vertical-align: top;\n",
       "    }\n",
       "\n",
       "    .dataframe thead th {\n",
       "        text-align: right;\n",
       "    }\n",
       "</style>\n",
       "<table border=\"1\" class=\"dataframe\">\n",
       "  <thead>\n",
       "    <tr style=\"text-align: right;\">\n",
       "      <th></th>\n",
       "      <th>city</th>\n",
       "      <th>day1</th>\n",
       "      <th>day2</th>\n",
       "      <th>day3</th>\n",
       "      <th>day4</th>\n",
       "      <th>day5</th>\n",
       "    </tr>\n",
       "  </thead>\n",
       "  <tbody>\n",
       "    <tr>\n",
       "      <th>0</th>\n",
       "      <td>A</td>\n",
       "      <td>22</td>\n",
       "      <td>10</td>\n",
       "      <td>25</td>\n",
       "      <td>18</td>\n",
       "      <td>12</td>\n",
       "    </tr>\n",
       "    <tr>\n",
       "      <th>1</th>\n",
       "      <td>B</td>\n",
       "      <td>25</td>\n",
       "      <td>14</td>\n",
       "      <td>22</td>\n",
       "      <td>15</td>\n",
       "      <td>14</td>\n",
       "    </tr>\n",
       "    <tr>\n",
       "      <th>2</th>\n",
       "      <td>C</td>\n",
       "      <td>28</td>\n",
       "      <td>13</td>\n",
       "      <td>26</td>\n",
       "      <td>17</td>\n",
       "      <td>18</td>\n",
       "    </tr>\n",
       "  </tbody>\n",
       "</table>\n",
       "</div>"
      ],
      "text/plain": [
       "  city  day1  day2  day3  day4  day5\n",
       "0    A    22    10    25    18    12\n",
       "1    B    25    14    22    15    14\n",
       "2    C    28    13    26    17    18"
      ]
     },
     "execution_count": 52,
     "metadata": {
      "tags": []
     },
     "output_type": "execute_result"
    }
   ],
   "source": [
    "wide = [{'city': 'A', 'day1':22, 'day2':10, 'day3':25, 'day4':18, 'day5':12},\n",
    "        {'city': 'B', 'day1':25, 'day2':14, 'day3':22, 'day4':15, 'day5':14},\n",
    "        {'city': 'C', 'day1':28, 'day2':13, 'day3':26, 'day4':17, 'day5':18}]\n",
    "\n",
    "df_wide = pd.DataFrame(wide)\n",
    "df_wide"
   ]
  },
  {
   "cell_type": "code",
   "execution_count": null,
   "metadata": {
    "colab": {
     "base_uri": "https://localhost:8080/",
     "height": 491
    },
    "executionInfo": {
     "elapsed": 985,
     "status": "ok",
     "timestamp": 1606677260791,
     "user": {
      "displayName": "Clive Drowley",
      "photoUrl": "https://lh3.googleusercontent.com/a-/AOh14GiMNBUScpz6uK1OoAP_wiX3V1hNMKU7OdlT-d-7=s64",
      "userId": "08192785469387199056"
     },
     "user_tz": 0
    },
    "id": "bLG7GFDNZobo",
    "outputId": "63af4a91-1c61-4e94-e3c8-ec348f52a02d"
   },
   "outputs": [
    {
     "data": {
      "text/html": [
       "<div>\n",
       "<style scoped>\n",
       "    .dataframe tbody tr th:only-of-type {\n",
       "        vertical-align: middle;\n",
       "    }\n",
       "\n",
       "    .dataframe tbody tr th {\n",
       "        vertical-align: top;\n",
       "    }\n",
       "\n",
       "    .dataframe thead th {\n",
       "        text-align: right;\n",
       "    }\n",
       "</style>\n",
       "<table border=\"1\" class=\"dataframe\">\n",
       "  <thead>\n",
       "    <tr style=\"text-align: right;\">\n",
       "      <th></th>\n",
       "      <th>city</th>\n",
       "      <th>days</th>\n",
       "      <th>temp</th>\n",
       "    </tr>\n",
       "  </thead>\n",
       "  <tbody>\n",
       "    <tr>\n",
       "      <th>0</th>\n",
       "      <td>A</td>\n",
       "      <td>day1</td>\n",
       "      <td>22</td>\n",
       "    </tr>\n",
       "    <tr>\n",
       "      <th>1</th>\n",
       "      <td>B</td>\n",
       "      <td>day1</td>\n",
       "      <td>25</td>\n",
       "    </tr>\n",
       "    <tr>\n",
       "      <th>2</th>\n",
       "      <td>C</td>\n",
       "      <td>day1</td>\n",
       "      <td>28</td>\n",
       "    </tr>\n",
       "    <tr>\n",
       "      <th>3</th>\n",
       "      <td>A</td>\n",
       "      <td>day2</td>\n",
       "      <td>10</td>\n",
       "    </tr>\n",
       "    <tr>\n",
       "      <th>4</th>\n",
       "      <td>B</td>\n",
       "      <td>day2</td>\n",
       "      <td>14</td>\n",
       "    </tr>\n",
       "    <tr>\n",
       "      <th>5</th>\n",
       "      <td>C</td>\n",
       "      <td>day2</td>\n",
       "      <td>13</td>\n",
       "    </tr>\n",
       "    <tr>\n",
       "      <th>6</th>\n",
       "      <td>A</td>\n",
       "      <td>day3</td>\n",
       "      <td>25</td>\n",
       "    </tr>\n",
       "    <tr>\n",
       "      <th>7</th>\n",
       "      <td>B</td>\n",
       "      <td>day3</td>\n",
       "      <td>22</td>\n",
       "    </tr>\n",
       "    <tr>\n",
       "      <th>8</th>\n",
       "      <td>C</td>\n",
       "      <td>day3</td>\n",
       "      <td>26</td>\n",
       "    </tr>\n",
       "    <tr>\n",
       "      <th>9</th>\n",
       "      <td>A</td>\n",
       "      <td>day4</td>\n",
       "      <td>18</td>\n",
       "    </tr>\n",
       "    <tr>\n",
       "      <th>10</th>\n",
       "      <td>B</td>\n",
       "      <td>day4</td>\n",
       "      <td>15</td>\n",
       "    </tr>\n",
       "    <tr>\n",
       "      <th>11</th>\n",
       "      <td>C</td>\n",
       "      <td>day4</td>\n",
       "      <td>17</td>\n",
       "    </tr>\n",
       "    <tr>\n",
       "      <th>12</th>\n",
       "      <td>A</td>\n",
       "      <td>day5</td>\n",
       "      <td>12</td>\n",
       "    </tr>\n",
       "    <tr>\n",
       "      <th>13</th>\n",
       "      <td>B</td>\n",
       "      <td>day5</td>\n",
       "      <td>14</td>\n",
       "    </tr>\n",
       "    <tr>\n",
       "      <th>14</th>\n",
       "      <td>C</td>\n",
       "      <td>day5</td>\n",
       "      <td>18</td>\n",
       "    </tr>\n",
       "  </tbody>\n",
       "</table>\n",
       "</div>"
      ],
      "text/plain": [
       "   city  days  temp\n",
       "0     A  day1    22\n",
       "1     B  day1    25\n",
       "2     C  day1    28\n",
       "3     A  day2    10\n",
       "4     B  day2    14\n",
       "5     C  day2    13\n",
       "6     A  day3    25\n",
       "7     B  day3    22\n",
       "8     C  day3    26\n",
       "9     A  day4    18\n",
       "10    B  day4    15\n",
       "11    C  day4    17\n",
       "12    A  day5    12\n",
       "13    B  day5    14\n",
       "14    C  day5    18"
      ]
     },
     "execution_count": 53,
     "metadata": {
      "tags": []
     },
     "output_type": "execute_result"
    }
   ],
   "source": [
    "df_wide.melt(id_vars=['city'])\n",
    "# Variable and value column names are given by default. We can use var_name and value_name parameters of melt function to assign new column names.\n",
    "df_wide.melt(id_vars=['city'], var_name='days', value_name=('temp'))\n"
   ]
  },
  {
   "cell_type": "markdown",
   "metadata": {
    "id": "5TVUuOUIYrYK"
   },
   "source": [
    "## Explode"
   ]
  },
  {
   "cell_type": "code",
   "execution_count": null,
   "metadata": {
    "colab": {
     "base_uri": "https://localhost:8080/"
    },
    "executionInfo": {
     "elapsed": 979,
     "status": "ok",
     "timestamp": 1606677260792,
     "user": {
      "displayName": "Clive Drowley",
      "photoUrl": "https://lh3.googleusercontent.com/a-/AOh14GiMNBUScpz6uK1OoAP_wiX3V1hNMKU7OdlT-d-7=s64",
      "userId": "08192785469387199056"
     },
     "user_tz": 0
    },
    "id": "7dOcYjGFYrsi",
    "outputId": "0702deef-fd09-403a-cf91-79bcb4e024fd"
   },
   "outputs": [
    {
     "data": {
      "text/html": [
       "<div>\n",
       "<style scoped>\n",
       "    .dataframe tbody tr th:only-of-type {\n",
       "        vertical-align: middle;\n",
       "    }\n",
       "\n",
       "    .dataframe tbody tr th {\n",
       "        vertical-align: top;\n",
       "    }\n",
       "\n",
       "    .dataframe thead th {\n",
       "        text-align: right;\n",
       "    }\n",
       "</style>\n",
       "<table border=\"1\" class=\"dataframe\">\n",
       "  <thead>\n",
       "    <tr style=\"text-align: right;\">\n",
       "      <th></th>\n",
       "      <th>ID</th>\n",
       "      <th>measurement</th>\n",
       "      <th>day</th>\n",
       "    </tr>\n",
       "  </thead>\n",
       "  <tbody>\n",
       "    <tr>\n",
       "      <th>0</th>\n",
       "      <td>a</td>\n",
       "      <td>4</td>\n",
       "      <td>1</td>\n",
       "    </tr>\n",
       "    <tr>\n",
       "      <th>1</th>\n",
       "      <td>b</td>\n",
       "      <td>6</td>\n",
       "      <td>1</td>\n",
       "    </tr>\n",
       "    <tr>\n",
       "      <th>2</th>\n",
       "      <td>c</td>\n",
       "      <td>[2, 3, 8]</td>\n",
       "      <td>1</td>\n",
       "    </tr>\n",
       "  </tbody>\n",
       "</table>\n",
       "</div>"
      ],
      "text/plain": [
       "  ID measurement  day\n",
       "0  a           4    1\n",
       "1  b           6    1\n",
       "2  c   [2, 3, 8]    1"
      ]
     },
     "execution_count": 54,
     "metadata": {
      "tags": []
     },
     "output_type": "execute_result"
    }
   ],
   "source": [
    "# Assume your data set includes multiple entries of a feature on a single observation (row) but you want to analyze them on separate rows.\n",
    "\n",
    "exp = [{'ID': 'a', 'measurement':4, 'day':1},\n",
    "        {'ID': 'b', 'measurement':6, 'day':1},\n",
    "        {'ID': 'c', 'measurement':[2, 3, 8], 'day':1}]\n",
    "\n",
    "df2 = pd.DataFrame(exp)\n",
    "df2"
   ]
  },
  {
   "cell_type": "code",
   "execution_count": null,
   "metadata": {
    "colab": {
     "base_uri": "https://localhost:8080/"
    },
    "executionInfo": {
     "elapsed": 974,
     "status": "ok",
     "timestamp": 1606677260793,
     "user": {
      "displayName": "Clive Drowley",
      "photoUrl": "https://lh3.googleusercontent.com/a-/AOh14GiMNBUScpz6uK1OoAP_wiX3V1hNMKU7OdlT-d-7=s64",
      "userId": "08192785469387199056"
     },
     "user_tz": 0
    },
    "id": "I0OeZ5qsa_sS",
    "outputId": "c2202b43-27e9-4bc3-cf1a-f47a8999c8eb"
   },
   "outputs": [
    {
     "data": {
      "text/html": [
       "<div>\n",
       "<style scoped>\n",
       "    .dataframe tbody tr th:only-of-type {\n",
       "        vertical-align: middle;\n",
       "    }\n",
       "\n",
       "    .dataframe tbody tr th {\n",
       "        vertical-align: top;\n",
       "    }\n",
       "\n",
       "    .dataframe thead th {\n",
       "        text-align: right;\n",
       "    }\n",
       "</style>\n",
       "<table border=\"1\" class=\"dataframe\">\n",
       "  <thead>\n",
       "    <tr style=\"text-align: right;\">\n",
       "      <th></th>\n",
       "      <th>ID</th>\n",
       "      <th>measurement</th>\n",
       "      <th>day</th>\n",
       "    </tr>\n",
       "  </thead>\n",
       "  <tbody>\n",
       "    <tr>\n",
       "      <th>0</th>\n",
       "      <td>a</td>\n",
       "      <td>4</td>\n",
       "      <td>1</td>\n",
       "    </tr>\n",
       "    <tr>\n",
       "      <th>1</th>\n",
       "      <td>b</td>\n",
       "      <td>6</td>\n",
       "      <td>1</td>\n",
       "    </tr>\n",
       "    <tr>\n",
       "      <th>2</th>\n",
       "      <td>c</td>\n",
       "      <td>2</td>\n",
       "      <td>1</td>\n",
       "    </tr>\n",
       "    <tr>\n",
       "      <th>3</th>\n",
       "      <td>c</td>\n",
       "      <td>3</td>\n",
       "      <td>1</td>\n",
       "    </tr>\n",
       "    <tr>\n",
       "      <th>4</th>\n",
       "      <td>c</td>\n",
       "      <td>8</td>\n",
       "      <td>1</td>\n",
       "    </tr>\n",
       "  </tbody>\n",
       "</table>\n",
       "</div>"
      ],
      "text/plain": [
       "  ID measurement  day\n",
       "0  a           4    1\n",
       "1  b           6    1\n",
       "2  c           2    1\n",
       "3  c           3    1\n",
       "4  c           8    1"
      ]
     },
     "execution_count": 55,
     "metadata": {
      "tags": []
     },
     "output_type": "execute_result"
    }
   ],
   "source": [
    "df2.explode('measurement').reset_index(drop=True)"
   ]
  },
  {
   "cell_type": "markdown",
   "metadata": {
    "id": "KOJLTrQYYtfI"
   },
   "source": [
    "## Nunique"
   ]
  },
  {
   "cell_type": "code",
   "execution_count": null,
   "metadata": {
    "colab": {
     "base_uri": "https://localhost:8080/",
     "height": 343
    },
    "executionInfo": {
     "elapsed": 899,
     "status": "ok",
     "timestamp": 1606677270784,
     "user": {
      "displayName": "Clive Drowley",
      "photoUrl": "https://lh3.googleusercontent.com/a-/AOh14GiMNBUScpz6uK1OoAP_wiX3V1hNMKU7OdlT-d-7=s64",
      "userId": "08192785469387199056"
     },
     "user_tz": 0
    },
    "id": "iymoGM4vbJKP",
    "outputId": "c39ec6e0-c2f1-403b-e3c1-9f9b335ee559"
   },
   "outputs": [
    {
     "data": {
      "text/html": [
       "<div>\n",
       "<style scoped>\n",
       "    .dataframe tbody tr th:only-of-type {\n",
       "        vertical-align: middle;\n",
       "    }\n",
       "\n",
       "    .dataframe tbody tr th {\n",
       "        vertical-align: top;\n",
       "    }\n",
       "\n",
       "    .dataframe thead th {\n",
       "        text-align: right;\n",
       "    }\n",
       "</style>\n",
       "<table border=\"1\" class=\"dataframe\">\n",
       "  <thead>\n",
       "    <tr style=\"text-align: right;\">\n",
       "      <th></th>\n",
       "      <th>group</th>\n",
       "      <th>year</th>\n",
       "      <th>new_col</th>\n",
       "      <th>value_1</th>\n",
       "      <th>value_2</th>\n",
       "      <th>cumsum_2</th>\n",
       "      <th>rank_1</th>\n",
       "    </tr>\n",
       "  </thead>\n",
       "  <tbody>\n",
       "    <tr>\n",
       "      <th>0</th>\n",
       "      <td>A</td>\n",
       "      <td>2010</td>\n",
       "      <td>-0.943155</td>\n",
       "      <td>9</td>\n",
       "      <td>7</td>\n",
       "      <td>7</td>\n",
       "      <td>9.5</td>\n",
       "    </tr>\n",
       "    <tr>\n",
       "      <th>1</th>\n",
       "      <td>A</td>\n",
       "      <td>2011</td>\n",
       "      <td>-1.338546</td>\n",
       "      <td>8</td>\n",
       "      <td>4</td>\n",
       "      <td>11</td>\n",
       "      <td>8.0</td>\n",
       "    </tr>\n",
       "    <tr>\n",
       "      <th>2</th>\n",
       "      <td>B</td>\n",
       "      <td>2012</td>\n",
       "      <td>-1.550581</td>\n",
       "      <td>5</td>\n",
       "      <td>9</td>\n",
       "      <td>9</td>\n",
       "      <td>4.5</td>\n",
       "    </tr>\n",
       "    <tr>\n",
       "      <th>3</th>\n",
       "      <td>A</td>\n",
       "      <td>2013</td>\n",
       "      <td>-1.091030</td>\n",
       "      <td>5</td>\n",
       "      <td>7</td>\n",
       "      <td>18</td>\n",
       "      <td>4.5</td>\n",
       "    </tr>\n",
       "    <tr>\n",
       "      <th>4</th>\n",
       "      <td>B</td>\n",
       "      <td>2014</td>\n",
       "      <td>1.156894</td>\n",
       "      <td>6</td>\n",
       "      <td>3</td>\n",
       "      <td>12</td>\n",
       "      <td>6.5</td>\n",
       "    </tr>\n",
       "    <tr>\n",
       "      <th>5</th>\n",
       "      <td>B</td>\n",
       "      <td>2015</td>\n",
       "      <td>-0.094821</td>\n",
       "      <td>6</td>\n",
       "      <td>6</td>\n",
       "      <td>18</td>\n",
       "      <td>6.5</td>\n",
       "    </tr>\n",
       "    <tr>\n",
       "      <th>6</th>\n",
       "      <td>C</td>\n",
       "      <td>2016</td>\n",
       "      <td>0.103722</td>\n",
       "      <td>3</td>\n",
       "      <td>2</td>\n",
       "      <td>2</td>\n",
       "      <td>2.5</td>\n",
       "    </tr>\n",
       "    <tr>\n",
       "      <th>7</th>\n",
       "      <td>A</td>\n",
       "      <td>2017</td>\n",
       "      <td>-0.726145</td>\n",
       "      <td>9</td>\n",
       "      <td>1</td>\n",
       "      <td>19</td>\n",
       "      <td>9.5</td>\n",
       "    </tr>\n",
       "    <tr>\n",
       "      <th>8</th>\n",
       "      <td>C</td>\n",
       "      <td>2018</td>\n",
       "      <td>-0.952616</td>\n",
       "      <td>1</td>\n",
       "      <td>3</td>\n",
       "      <td>5</td>\n",
       "      <td>1.0</td>\n",
       "    </tr>\n",
       "    <tr>\n",
       "      <th>9</th>\n",
       "      <td>C</td>\n",
       "      <td>2019</td>\n",
       "      <td>-1.407730</td>\n",
       "      <td>3</td>\n",
       "      <td>6</td>\n",
       "      <td>11</td>\n",
       "      <td>2.5</td>\n",
       "    </tr>\n",
       "  </tbody>\n",
       "</table>\n",
       "</div>"
      ],
      "text/plain": [
       "  group  year   new_col  value_1  value_2  cumsum_2  rank_1\n",
       "0     A  2010 -0.943155        9        7         7     9.5\n",
       "1     A  2011 -1.338546        8        4        11     8.0\n",
       "2     B  2012 -1.550581        5        9         9     4.5\n",
       "3     A  2013 -1.091030        5        7        18     4.5\n",
       "4     B  2014  1.156894        6        3        12     6.5\n",
       "5     B  2015 -0.094821        6        6        18     6.5\n",
       "6     C  2016  0.103722        3        2         2     2.5\n",
       "7     A  2017 -0.726145        9        1        19     9.5\n",
       "8     C  2018 -0.952616        1        3         5     1.0\n",
       "9     C  2019 -1.407730        3        6        11     2.5"
      ]
     },
     "execution_count": 57,
     "metadata": {
      "tags": []
     },
     "output_type": "execute_result"
    }
   ],
   "source": [
    "# Nunique counts the number of unique entries over columns or rows. It is very useful in categorical features especially in cases where we do not know the number of categories beforehand. Let’s take a look at our initial dataframe:\n",
    "df"
   ]
  },
  {
   "cell_type": "code",
   "execution_count": null,
   "metadata": {
    "colab": {
     "base_uri": "https://localhost:8080/"
    },
    "executionInfo": {
     "elapsed": 468,
     "status": "ok",
     "timestamp": 1606677362004,
     "user": {
      "displayName": "Clive Drowley",
      "photoUrl": "https://lh3.googleusercontent.com/a-/AOh14GiMNBUScpz6uK1OoAP_wiX3V1hNMKU7OdlT-d-7=s64",
      "userId": "08192785469387199056"
     },
     "user_tz": 0
    },
    "id": "0mrog7JubbmW",
    "outputId": "6e257e38-49e0-4866-8e38-c6c842b8160a"
   },
   "outputs": [
    {
     "name": "stdout",
     "output_type": "stream",
     "text": [
      "10\n",
      "3\n"
     ]
    },
    {
     "data": {
      "text/plain": [
       "group        3\n",
       "year        10\n",
       "new_col     10\n",
       "value_1      6\n",
       "value_2      7\n",
       "cumsum_2     8\n",
       "rank_1       6\n",
       "dtype: int64"
      ]
     },
     "execution_count": 62,
     "metadata": {
      "tags": []
     },
     "output_type": "execute_result"
    }
   ],
   "source": [
    "print(df.year.nunique())\n",
    "print(df.group.nunique())\n",
    "\n",
    "df.nunique()\n",
    "\n",
    "# If axis parameter is set to 1, nunique returns the number of unique values in each row."
   ]
  },
  {
   "cell_type": "markdown",
   "metadata": {
    "id": "VHHOkhKhYycu"
   },
   "source": [
    "## Lookup"
   ]
  },
  {
   "cell_type": "markdown",
   "metadata": {
    "id": "zRhraFyrb_LP"
   },
   "source": [
    "It can be used to look up values in the DataFrame based on the values on other row, column pairs. \n",
    "\n",
    "This function is best explained via an example. Assume we have the following DataFrame:\n",
    "\n",
    "![image.png](data:image/png;base64,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)\n"
   ]
  },
  {
   "cell_type": "markdown",
   "metadata": {
    "id": "JqcSnxSScEYQ"
   },
   "source": [
    "For each day, we have measurements of 4 people and a column that includes the names of these 4 people. We want to create a new column that shows the measurement of the person in “Person” column. Thus, for the first row, the value in the new column will be 4 (the value in column “Alex”).\n",
    "\n",
    "df['Person_point'] = df.lookup(df.index, df['Person'])\n",
    "df\n",
    "![image.png](data:image/png;base64,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)\n"
   ]
  },
  {
   "cell_type": "markdown",
   "metadata": {
    "id": "un3m0FDGYx0y"
   },
   "source": [
    "## Infer_objects"
   ]
  },
  {
   "cell_type": "markdown",
   "metadata": {
    "id": "9ymjyzk0crO4"
   },
   "source": [
    "Pandas supports a wide range of data types, one of which is object. Object covers text or mixed (numeric and non-numeric) values. However, it is not preferred to use object data type if a different option is available. Certain operations is executed faster with more specific data types. For example, we prefer to have integer or float data type for numerical values."
   ]
  },
  {
   "cell_type": "code",
   "execution_count": null,
   "metadata": {
    "colab": {
     "base_uri": "https://localhost:8080/",
     "height": 166
    },
    "executionInfo": {
     "elapsed": 574,
     "status": "ok",
     "timestamp": 1606677762863,
     "user": {
      "displayName": "Clive Drowley",
      "photoUrl": "https://lh3.googleusercontent.com/a-/AOh14GiMNBUScpz6uK1OoAP_wiX3V1hNMKU7OdlT-d-7=s64",
      "userId": "08192785469387199056"
     },
     "user_tz": 0
    },
    "id": "wbJ0JDOGcqbZ",
    "outputId": "be010fd2-3323-4b4e-f59b-fb86e0c71df2"
   },
   "outputs": [
    {
     "data": {
      "text/html": [
       "<div>\n",
       "<style scoped>\n",
       "    .dataframe tbody tr th:only-of-type {\n",
       "        vertical-align: middle;\n",
       "    }\n",
       "\n",
       "    .dataframe tbody tr th {\n",
       "        vertical-align: top;\n",
       "    }\n",
       "\n",
       "    .dataframe thead th {\n",
       "        text-align: right;\n",
       "    }\n",
       "</style>\n",
       "<table border=\"1\" class=\"dataframe\">\n",
       "  <thead>\n",
       "    <tr style=\"text-align: right;\">\n",
       "      <th></th>\n",
       "      <th>A</th>\n",
       "      <th>B</th>\n",
       "      <th>C</th>\n",
       "      <th>D</th>\n",
       "    </tr>\n",
       "  </thead>\n",
       "  <tbody>\n",
       "    <tr>\n",
       "      <th>0</th>\n",
       "      <td>1</td>\n",
       "      <td>2.1</td>\n",
       "      <td>True</td>\n",
       "      <td>b</td>\n",
       "    </tr>\n",
       "    <tr>\n",
       "      <th>1</th>\n",
       "      <td>2</td>\n",
       "      <td>1.5</td>\n",
       "      <td>False</td>\n",
       "      <td>c</td>\n",
       "    </tr>\n",
       "    <tr>\n",
       "      <th>2</th>\n",
       "      <td>3</td>\n",
       "      <td>2</td>\n",
       "      <td>False</td>\n",
       "      <td>d</td>\n",
       "    </tr>\n",
       "    <tr>\n",
       "      <th>3</th>\n",
       "      <td>4</td>\n",
       "      <td>2.1</td>\n",
       "      <td>True</td>\n",
       "      <td>f</td>\n",
       "    </tr>\n",
       "  </tbody>\n",
       "</table>\n",
       "</div>"
      ],
      "text/plain": [
       "   A    B      C  D\n",
       "0  1  2.1   True  b\n",
       "1  2  1.5  False  c\n",
       "2  3    2  False  d\n",
       "3  4  2.1   True  f"
      ]
     },
     "execution_count": 63,
     "metadata": {
      "tags": []
     },
     "output_type": "execute_result"
    }
   ],
   "source": [
    "# infer_objects attempts to infer better data types for object columns. Consider the following dataframe:\n",
    "\n",
    "data = [{'A': '1', 'B': '2.1', 'C': 'True', 'D': 'b'},\n",
    "        {'A': '2', 'B': '1.5', 'C': 'False', 'D': 'c'},\n",
    "        {'A': '3', 'B': '2', 'C': 'False', 'D': 'd'},\n",
    "        {'A': '4', 'B': '2.1', 'C': 'True', 'D': 'f'}]\n",
    "\n",
    "df3 = pd.DataFrame(data)\n",
    "df3"
   ]
  },
  {
   "cell_type": "code",
   "execution_count": null,
   "metadata": {
    "colab": {
     "base_uri": "https://localhost:8080/"
    },
    "executionInfo": {
     "elapsed": 520,
     "status": "ok",
     "timestamp": 1606677778742,
     "user": {
      "displayName": "Clive Drowley",
      "photoUrl": "https://lh3.googleusercontent.com/a-/AOh14GiMNBUScpz6uK1OoAP_wiX3V1hNMKU7OdlT-d-7=s64",
      "userId": "08192785469387199056"
     },
     "user_tz": 0
    },
    "id": "sP0LqqfXcnSz",
    "outputId": "c2582ceb-9865-4ee8-b28b-88839bcb4f81"
   },
   "outputs": [
    {
     "data": {
      "text/plain": [
       "A    object\n",
       "B    object\n",
       "C    object\n",
       "D    object\n",
       "dtype: object"
      ]
     },
     "execution_count": 65,
     "metadata": {
      "tags": []
     },
     "output_type": "execute_result"
    }
   ],
   "source": [
    "df3.dtypes"
   ]
  },
  {
   "cell_type": "code",
   "execution_count": null,
   "metadata": {
    "colab": {
     "base_uri": "https://localhost:8080/"
    },
    "executionInfo": {
     "elapsed": 402,
     "status": "ok",
     "timestamp": 1606677797620,
     "user": {
      "displayName": "Clive Drowley",
      "photoUrl": "https://lh3.googleusercontent.com/a-/AOh14GiMNBUScpz6uK1OoAP_wiX3V1hNMKU7OdlT-d-7=s64",
      "userId": "08192785469387199056"
     },
     "user_tz": 0
    },
    "id": "kTJs-TGhdW8t",
    "outputId": "db6612a9-58e0-4cad-9fc7-b0ab654ade7c"
   },
   "outputs": [
    {
     "data": {
      "text/plain": [
       "A    object\n",
       "B    object\n",
       "C    object\n",
       "D    object\n",
       "dtype: object"
      ]
     },
     "execution_count": 66,
     "metadata": {
      "tags": []
     },
     "output_type": "execute_result"
    }
   ],
   "source": [
    "df3.infer_objects().dtypes"
   ]
  },
  {
   "cell_type": "markdown",
   "metadata": {
    "id": "pEgUKhRZYxZP"
   },
   "source": [
    "##"
   ]
  },
  {
   "cell_type": "markdown",
   "metadata": {
    "id": "7Dse-0VmYw0F"
   },
   "source": [
    "## "
   ]
  },
  {
   "cell_type": "markdown",
   "metadata": {
    "id": "w5JFnPzJYwLG"
   },
   "source": [
    "## Memory_usage"
   ]
  },
  {
   "cell_type": "code",
   "execution_count": null,
   "metadata": {
    "colab": {
     "base_uri": "https://localhost:8080/"
    },
    "executionInfo": {
     "elapsed": 522,
     "status": "ok",
     "timestamp": 1606677949216,
     "user": {
      "displayName": "Clive Drowley",
      "photoUrl": "https://lh3.googleusercontent.com/a-/AOh14GiMNBUScpz6uK1OoAP_wiX3V1hNMKU7OdlT-d-7=s64",
      "userId": "08192785469387199056"
     },
     "user_tz": 0
    },
    "id": "yi1UINqOdjzv",
    "outputId": "df9efeed-f7a7-4d3d-d270-a9fb1b810a37"
   },
   "outputs": [
    {
     "data": {
      "text/plain": [
       "(1000000, 2)"
      ]
     },
     "execution_count": 75,
     "metadata": {
      "tags": []
     },
     "output_type": "execute_result"
    }
   ],
   "source": [
    "df_large = pd.DataFrame({'A': np.random.randn(1000000),\n",
    "                    'B': np.random.randint(100, size=1000000)})\n",
    "df_large.shape"
   ]
  },
  {
   "cell_type": "code",
   "execution_count": null,
   "metadata": {
    "colab": {
     "base_uri": "https://localhost:8080/"
    },
    "executionInfo": {
     "elapsed": 454,
     "status": "ok",
     "timestamp": 1606678230357,
     "user": {
      "displayName": "Clive Drowley",
      "photoUrl": "https://lh3.googleusercontent.com/a-/AOh14GiMNBUScpz6uK1OoAP_wiX3V1hNMKU7OdlT-d-7=s64",
      "userId": "08192785469387199056"
     },
     "user_tz": 0
    },
    "id": "YtLnb80MdmpC",
    "outputId": "93b2ad24-74db-4b79-a064-f34285456c02"
   },
   "outputs": [
    {
     "name": "stdout",
     "output_type": "stream",
     "text": [
      "Size of A: 7.6295166015625\n",
      "Size of B: 7.6295166015625\n",
      "\n",
      "Size of df_large: 15.2589111328125\n"
     ]
    }
   ],
   "source": [
    "for col in df_large.columns:\n",
    "    print(f'Size of {col}:', df_large[col].memory_usage() / (1024**2))\n",
    "\n",
    "print(f'\\nSize of df_large:', df_large.memory_usage().sum()  / (1024**2) )"
   ]
  },
  {
   "cell_type": "markdown",
   "metadata": {
    "id": "5Zysm-BqYvbx"
   },
   "source": [
    "## Describe"
   ]
  },
  {
   "cell_type": "code",
   "execution_count": null,
   "metadata": {
    "colab": {
     "base_uri": "https://localhost:8080/",
     "height": 284
    },
    "executionInfo": {
     "elapsed": 461,
     "status": "ok",
     "timestamp": 1606678250257,
     "user": {
      "displayName": "Clive Drowley",
      "photoUrl": "https://lh3.googleusercontent.com/a-/AOh14GiMNBUScpz6uK1OoAP_wiX3V1hNMKU7OdlT-d-7=s64",
      "userId": "08192785469387199056"
     },
     "user_tz": 0
    },
    "id": "heVlqXYOfG24",
    "outputId": "28dc86a8-53b9-4e21-8e2b-b8dd44bf627e"
   },
   "outputs": [
    {
     "data": {
      "text/html": [
       "<div>\n",
       "<style scoped>\n",
       "    .dataframe tbody tr th:only-of-type {\n",
       "        vertical-align: middle;\n",
       "    }\n",
       "\n",
       "    .dataframe tbody tr th {\n",
       "        vertical-align: top;\n",
       "    }\n",
       "\n",
       "    .dataframe thead th {\n",
       "        text-align: right;\n",
       "    }\n",
       "</style>\n",
       "<table border=\"1\" class=\"dataframe\">\n",
       "  <thead>\n",
       "    <tr style=\"text-align: right;\">\n",
       "      <th></th>\n",
       "      <th>year</th>\n",
       "      <th>new_col</th>\n",
       "      <th>value_1</th>\n",
       "      <th>value_2</th>\n",
       "      <th>cumsum_2</th>\n",
       "      <th>rank_1</th>\n",
       "    </tr>\n",
       "  </thead>\n",
       "  <tbody>\n",
       "    <tr>\n",
       "      <th>count</th>\n",
       "      <td>10.00000</td>\n",
       "      <td>10.000000</td>\n",
       "      <td>10.000000</td>\n",
       "      <td>10.000000</td>\n",
       "      <td>10.000000</td>\n",
       "      <td>10.000000</td>\n",
       "    </tr>\n",
       "    <tr>\n",
       "      <th>mean</th>\n",
       "      <td>2014.50000</td>\n",
       "      <td>-0.684401</td>\n",
       "      <td>5.500000</td>\n",
       "      <td>4.800000</td>\n",
       "      <td>11.200000</td>\n",
       "      <td>5.500000</td>\n",
       "    </tr>\n",
       "    <tr>\n",
       "      <th>std</th>\n",
       "      <td>3.02765</td>\n",
       "      <td>0.841062</td>\n",
       "      <td>2.677063</td>\n",
       "      <td>2.573368</td>\n",
       "      <td>5.769652</td>\n",
       "      <td>2.990726</td>\n",
       "    </tr>\n",
       "    <tr>\n",
       "      <th>min</th>\n",
       "      <td>2010.00000</td>\n",
       "      <td>-1.550581</td>\n",
       "      <td>1.000000</td>\n",
       "      <td>1.000000</td>\n",
       "      <td>2.000000</td>\n",
       "      <td>1.000000</td>\n",
       "    </tr>\n",
       "    <tr>\n",
       "      <th>25%</th>\n",
       "      <td>2012.25000</td>\n",
       "      <td>-1.276667</td>\n",
       "      <td>3.500000</td>\n",
       "      <td>3.000000</td>\n",
       "      <td>7.500000</td>\n",
       "      <td>3.000000</td>\n",
       "    </tr>\n",
       "    <tr>\n",
       "      <th>50%</th>\n",
       "      <td>2014.50000</td>\n",
       "      <td>-0.947885</td>\n",
       "      <td>5.500000</td>\n",
       "      <td>5.000000</td>\n",
       "      <td>11.000000</td>\n",
       "      <td>5.500000</td>\n",
       "    </tr>\n",
       "    <tr>\n",
       "      <th>75%</th>\n",
       "      <td>2016.75000</td>\n",
       "      <td>-0.252652</td>\n",
       "      <td>7.500000</td>\n",
       "      <td>6.750000</td>\n",
       "      <td>16.500000</td>\n",
       "      <td>7.625000</td>\n",
       "    </tr>\n",
       "    <tr>\n",
       "      <th>max</th>\n",
       "      <td>2019.00000</td>\n",
       "      <td>1.156894</td>\n",
       "      <td>9.000000</td>\n",
       "      <td>9.000000</td>\n",
       "      <td>19.000000</td>\n",
       "      <td>9.500000</td>\n",
       "    </tr>\n",
       "  </tbody>\n",
       "</table>\n",
       "</div>"
      ],
      "text/plain": [
       "             year    new_col    value_1    value_2   cumsum_2     rank_1\n",
       "count    10.00000  10.000000  10.000000  10.000000  10.000000  10.000000\n",
       "mean   2014.50000  -0.684401   5.500000   4.800000  11.200000   5.500000\n",
       "std       3.02765   0.841062   2.677063   2.573368   5.769652   2.990726\n",
       "min    2010.00000  -1.550581   1.000000   1.000000   2.000000   1.000000\n",
       "25%    2012.25000  -1.276667   3.500000   3.000000   7.500000   3.000000\n",
       "50%    2014.50000  -0.947885   5.500000   5.000000  11.000000   5.500000\n",
       "75%    2016.75000  -0.252652   7.500000   6.750000  16.500000   7.625000\n",
       "max    2019.00000   1.156894   9.000000   9.000000  19.000000   9.500000"
      ]
     },
     "execution_count": 93,
     "metadata": {
      "tags": []
     },
     "output_type": "execute_result"
    }
   ],
   "source": [
    "df.describe()"
   ]
  },
  {
   "cell_type": "markdown",
   "metadata": {
    "id": "d5yNVMDHYuum"
   },
   "source": [
    "## Merge"
   ]
  },
  {
   "cell_type": "markdown",
   "metadata": {
    "id": "id2bT3csfR6R"
   },
   "source": [
    "Merge() combines DataFrames based on values in shared columns. Consider the following two dataframes.\n",
    "\n",
    "![image.png](data:image/png;base64,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)"
   ]
  },
  {
   "cell_type": "markdown",
   "metadata": {
    "id": "o2fN8wt8fU-5"
   },
   "source": [
    "We can merge them based on shared values in a column. The parameter that sets the condition for merging is the “on” parameter.\n",
    "\n",
    "![image.png](data:image/png;base64,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)"
   ]
  },
  {
   "cell_type": "markdown",
   "metadata": {
    "id": "Qp9LITDHfZ_a"
   },
   "source": [
    "df1 and df2 are merged based on the common values in column_a. The how parameter of merge function allows to combine dataframes in different ways. The possible values for how are ‘inner’, ‘outer’, ‘left’, ‘right’.\n",
    "inner: only rows with same values in the column specified by on parameter (default value of how parameter)\n",
    "outer: all the rows\n",
    "left: all rows from left DataFrame\n",
    "right: all rows from right DataFrame"
   ]
  },
  {
   "cell_type": "markdown",
   "metadata": {
    "id": "CXBwGzUYfjMX"
   },
   "source": [
    "## Select_dtypes"
   ]
  },
  {
   "cell_type": "code",
   "execution_count": null,
   "metadata": {
    "colab": {
     "base_uri": "https://localhost:8080/",
     "height": 343
    },
    "executionInfo": {
     "elapsed": 554,
     "status": "ok",
     "timestamp": 1606678369442,
     "user": {
      "displayName": "Clive Drowley",
      "photoUrl": "https://lh3.googleusercontent.com/a-/AOh14GiMNBUScpz6uK1OoAP_wiX3V1hNMKU7OdlT-d-7=s64",
      "userId": "08192785469387199056"
     },
     "user_tz": 0
    },
    "id": "3NfeNRiYfk6N",
    "outputId": "38d2374e-2ea5-48e9-9acb-106e70448ec3"
   },
   "outputs": [
    {
     "data": {
      "text/html": [
       "<div>\n",
       "<style scoped>\n",
       "    .dataframe tbody tr th:only-of-type {\n",
       "        vertical-align: middle;\n",
       "    }\n",
       "\n",
       "    .dataframe tbody tr th {\n",
       "        vertical-align: top;\n",
       "    }\n",
       "\n",
       "    .dataframe thead th {\n",
       "        text-align: right;\n",
       "    }\n",
       "</style>\n",
       "<table border=\"1\" class=\"dataframe\">\n",
       "  <thead>\n",
       "    <tr style=\"text-align: right;\">\n",
       "      <th></th>\n",
       "      <th>year</th>\n",
       "      <th>value_1</th>\n",
       "      <th>value_2</th>\n",
       "      <th>cumsum_2</th>\n",
       "    </tr>\n",
       "  </thead>\n",
       "  <tbody>\n",
       "    <tr>\n",
       "      <th>0</th>\n",
       "      <td>2010</td>\n",
       "      <td>9</td>\n",
       "      <td>7</td>\n",
       "      <td>7</td>\n",
       "    </tr>\n",
       "    <tr>\n",
       "      <th>1</th>\n",
       "      <td>2011</td>\n",
       "      <td>8</td>\n",
       "      <td>4</td>\n",
       "      <td>11</td>\n",
       "    </tr>\n",
       "    <tr>\n",
       "      <th>2</th>\n",
       "      <td>2012</td>\n",
       "      <td>5</td>\n",
       "      <td>9</td>\n",
       "      <td>9</td>\n",
       "    </tr>\n",
       "    <tr>\n",
       "      <th>3</th>\n",
       "      <td>2013</td>\n",
       "      <td>5</td>\n",
       "      <td>7</td>\n",
       "      <td>18</td>\n",
       "    </tr>\n",
       "    <tr>\n",
       "      <th>4</th>\n",
       "      <td>2014</td>\n",
       "      <td>6</td>\n",
       "      <td>3</td>\n",
       "      <td>12</td>\n",
       "    </tr>\n",
       "    <tr>\n",
       "      <th>5</th>\n",
       "      <td>2015</td>\n",
       "      <td>6</td>\n",
       "      <td>6</td>\n",
       "      <td>18</td>\n",
       "    </tr>\n",
       "    <tr>\n",
       "      <th>6</th>\n",
       "      <td>2016</td>\n",
       "      <td>3</td>\n",
       "      <td>2</td>\n",
       "      <td>2</td>\n",
       "    </tr>\n",
       "    <tr>\n",
       "      <th>7</th>\n",
       "      <td>2017</td>\n",
       "      <td>9</td>\n",
       "      <td>1</td>\n",
       "      <td>19</td>\n",
       "    </tr>\n",
       "    <tr>\n",
       "      <th>8</th>\n",
       "      <td>2018</td>\n",
       "      <td>1</td>\n",
       "      <td>3</td>\n",
       "      <td>5</td>\n",
       "    </tr>\n",
       "    <tr>\n",
       "      <th>9</th>\n",
       "      <td>2019</td>\n",
       "      <td>3</td>\n",
       "      <td>6</td>\n",
       "      <td>11</td>\n",
       "    </tr>\n",
       "  </tbody>\n",
       "</table>\n",
       "</div>"
      ],
      "text/plain": [
       "   year  value_1  value_2  cumsum_2\n",
       "0  2010        9        7         7\n",
       "1  2011        8        4        11\n",
       "2  2012        5        9         9\n",
       "3  2013        5        7        18\n",
       "4  2014        6        3        12\n",
       "5  2015        6        6        18\n",
       "6  2016        3        2         2\n",
       "7  2017        9        1        19\n",
       "8  2018        1        3         5\n",
       "9  2019        3        6        11"
      ]
     },
     "execution_count": 94,
     "metadata": {
      "tags": []
     },
     "output_type": "execute_result"
    }
   ],
   "source": [
    "df.select_dtypes(include='int64')"
   ]
  },
  {
   "cell_type": "code",
   "execution_count": null,
   "metadata": {
    "colab": {
     "base_uri": "https://localhost:8080/",
     "height": 343
    },
    "executionInfo": {
     "elapsed": 574,
     "status": "ok",
     "timestamp": 1606678375059,
     "user": {
      "displayName": "Clive Drowley",
      "photoUrl": "https://lh3.googleusercontent.com/a-/AOh14GiMNBUScpz6uK1OoAP_wiX3V1hNMKU7OdlT-d-7=s64",
      "userId": "08192785469387199056"
     },
     "user_tz": 0
    },
    "id": "7gB6jR78fmWD",
    "outputId": "54547dd3-5a51-4fcc-8df4-c9239ea65e81"
   },
   "outputs": [
    {
     "data": {
      "text/html": [
       "<div>\n",
       "<style scoped>\n",
       "    .dataframe tbody tr th:only-of-type {\n",
       "        vertical-align: middle;\n",
       "    }\n",
       "\n",
       "    .dataframe tbody tr th {\n",
       "        vertical-align: top;\n",
       "    }\n",
       "\n",
       "    .dataframe thead th {\n",
       "        text-align: right;\n",
       "    }\n",
       "</style>\n",
       "<table border=\"1\" class=\"dataframe\">\n",
       "  <thead>\n",
       "    <tr style=\"text-align: right;\">\n",
       "      <th></th>\n",
       "      <th>group</th>\n",
       "      <th>new_col</th>\n",
       "      <th>rank_1</th>\n",
       "    </tr>\n",
       "  </thead>\n",
       "  <tbody>\n",
       "    <tr>\n",
       "      <th>0</th>\n",
       "      <td>A</td>\n",
       "      <td>-0.943155</td>\n",
       "      <td>9.5</td>\n",
       "    </tr>\n",
       "    <tr>\n",
       "      <th>1</th>\n",
       "      <td>A</td>\n",
       "      <td>-1.338546</td>\n",
       "      <td>8.0</td>\n",
       "    </tr>\n",
       "    <tr>\n",
       "      <th>2</th>\n",
       "      <td>B</td>\n",
       "      <td>-1.550581</td>\n",
       "      <td>4.5</td>\n",
       "    </tr>\n",
       "    <tr>\n",
       "      <th>3</th>\n",
       "      <td>A</td>\n",
       "      <td>-1.091030</td>\n",
       "      <td>4.5</td>\n",
       "    </tr>\n",
       "    <tr>\n",
       "      <th>4</th>\n",
       "      <td>B</td>\n",
       "      <td>1.156894</td>\n",
       "      <td>6.5</td>\n",
       "    </tr>\n",
       "    <tr>\n",
       "      <th>5</th>\n",
       "      <td>B</td>\n",
       "      <td>-0.094821</td>\n",
       "      <td>6.5</td>\n",
       "    </tr>\n",
       "    <tr>\n",
       "      <th>6</th>\n",
       "      <td>C</td>\n",
       "      <td>0.103722</td>\n",
       "      <td>2.5</td>\n",
       "    </tr>\n",
       "    <tr>\n",
       "      <th>7</th>\n",
       "      <td>A</td>\n",
       "      <td>-0.726145</td>\n",
       "      <td>9.5</td>\n",
       "    </tr>\n",
       "    <tr>\n",
       "      <th>8</th>\n",
       "      <td>C</td>\n",
       "      <td>-0.952616</td>\n",
       "      <td>1.0</td>\n",
       "    </tr>\n",
       "    <tr>\n",
       "      <th>9</th>\n",
       "      <td>C</td>\n",
       "      <td>-1.407730</td>\n",
       "      <td>2.5</td>\n",
       "    </tr>\n",
       "  </tbody>\n",
       "</table>\n",
       "</div>"
      ],
      "text/plain": [
       "  group   new_col  rank_1\n",
       "0     A -0.943155     9.5\n",
       "1     A -1.338546     8.0\n",
       "2     B -1.550581     4.5\n",
       "3     A -1.091030     4.5\n",
       "4     B  1.156894     6.5\n",
       "5     B -0.094821     6.5\n",
       "6     C  0.103722     2.5\n",
       "7     A -0.726145     9.5\n",
       "8     C -0.952616     1.0\n",
       "9     C -1.407730     2.5"
      ]
     },
     "execution_count": 95,
     "metadata": {
      "tags": []
     },
     "output_type": "execute_result"
    }
   ],
   "source": [
    "df.select_dtypes(exclude='int64')"
   ]
  },
  {
   "cell_type": "markdown",
   "metadata": {
    "id": "osYaj6_OfpUv"
   },
   "source": [
    "## Replace"
   ]
  },
  {
   "cell_type": "code",
   "execution_count": null,
   "metadata": {
    "colab": {
     "base_uri": "https://localhost:8080/",
     "height": 343
    },
    "executionInfo": {
     "elapsed": 552,
     "status": "ok",
     "timestamp": 1606678410367,
     "user": {
      "displayName": "Clive Drowley",
      "photoUrl": "https://lh3.googleusercontent.com/a-/AOh14GiMNBUScpz6uK1OoAP_wiX3V1hNMKU7OdlT-d-7=s64",
      "userId": "08192785469387199056"
     },
     "user_tz": 0
    },
    "id": "Z_4xIdlZfrrM",
    "outputId": "18c55fec-927c-4663-b76d-7d3997f9ba0c"
   },
   "outputs": [
    {
     "data": {
      "text/html": [
       "<div>\n",
       "<style scoped>\n",
       "    .dataframe tbody tr th:only-of-type {\n",
       "        vertical-align: middle;\n",
       "    }\n",
       "\n",
       "    .dataframe tbody tr th {\n",
       "        vertical-align: top;\n",
       "    }\n",
       "\n",
       "    .dataframe thead th {\n",
       "        text-align: right;\n",
       "    }\n",
       "</style>\n",
       "<table border=\"1\" class=\"dataframe\">\n",
       "  <thead>\n",
       "    <tr style=\"text-align: right;\">\n",
       "      <th></th>\n",
       "      <th>group</th>\n",
       "      <th>year</th>\n",
       "      <th>new_col</th>\n",
       "      <th>value_1</th>\n",
       "      <th>value_2</th>\n",
       "      <th>cumsum_2</th>\n",
       "      <th>rank_1</th>\n",
       "    </tr>\n",
       "  </thead>\n",
       "  <tbody>\n",
       "    <tr>\n",
       "      <th>0</th>\n",
       "      <td>A_1</td>\n",
       "      <td>2010</td>\n",
       "      <td>-0.943155</td>\n",
       "      <td>9</td>\n",
       "      <td>7</td>\n",
       "      <td>7</td>\n",
       "      <td>9.5</td>\n",
       "    </tr>\n",
       "    <tr>\n",
       "      <th>1</th>\n",
       "      <td>A_1</td>\n",
       "      <td>2011</td>\n",
       "      <td>-1.338546</td>\n",
       "      <td>8</td>\n",
       "      <td>4</td>\n",
       "      <td>11</td>\n",
       "      <td>8.0</td>\n",
       "    </tr>\n",
       "    <tr>\n",
       "      <th>2</th>\n",
       "      <td>B</td>\n",
       "      <td>2012</td>\n",
       "      <td>-1.550581</td>\n",
       "      <td>5</td>\n",
       "      <td>9</td>\n",
       "      <td>9</td>\n",
       "      <td>4.5</td>\n",
       "    </tr>\n",
       "    <tr>\n",
       "      <th>3</th>\n",
       "      <td>A_1</td>\n",
       "      <td>2013</td>\n",
       "      <td>-1.091030</td>\n",
       "      <td>5</td>\n",
       "      <td>7</td>\n",
       "      <td>18</td>\n",
       "      <td>4.5</td>\n",
       "    </tr>\n",
       "    <tr>\n",
       "      <th>4</th>\n",
       "      <td>B</td>\n",
       "      <td>2014</td>\n",
       "      <td>1.156894</td>\n",
       "      <td>6</td>\n",
       "      <td>3</td>\n",
       "      <td>12</td>\n",
       "      <td>6.5</td>\n",
       "    </tr>\n",
       "    <tr>\n",
       "      <th>5</th>\n",
       "      <td>B</td>\n",
       "      <td>2015</td>\n",
       "      <td>-0.094821</td>\n",
       "      <td>6</td>\n",
       "      <td>6</td>\n",
       "      <td>18</td>\n",
       "      <td>6.5</td>\n",
       "    </tr>\n",
       "    <tr>\n",
       "      <th>6</th>\n",
       "      <td>C</td>\n",
       "      <td>2016</td>\n",
       "      <td>0.103722</td>\n",
       "      <td>3</td>\n",
       "      <td>2</td>\n",
       "      <td>2</td>\n",
       "      <td>2.5</td>\n",
       "    </tr>\n",
       "    <tr>\n",
       "      <th>7</th>\n",
       "      <td>A_1</td>\n",
       "      <td>2017</td>\n",
       "      <td>-0.726145</td>\n",
       "      <td>9</td>\n",
       "      <td>1</td>\n",
       "      <td>19</td>\n",
       "      <td>9.5</td>\n",
       "    </tr>\n",
       "    <tr>\n",
       "      <th>8</th>\n",
       "      <td>C</td>\n",
       "      <td>2018</td>\n",
       "      <td>-0.952616</td>\n",
       "      <td>1</td>\n",
       "      <td>3</td>\n",
       "      <td>5</td>\n",
       "      <td>1.0</td>\n",
       "    </tr>\n",
       "    <tr>\n",
       "      <th>9</th>\n",
       "      <td>C</td>\n",
       "      <td>2019</td>\n",
       "      <td>-1.407730</td>\n",
       "      <td>3</td>\n",
       "      <td>6</td>\n",
       "      <td>11</td>\n",
       "      <td>2.5</td>\n",
       "    </tr>\n",
       "  </tbody>\n",
       "</table>\n",
       "</div>"
      ],
      "text/plain": [
       "  group  year   new_col  value_1  value_2  cumsum_2  rank_1\n",
       "0   A_1  2010 -0.943155        9        7         7     9.5\n",
       "1   A_1  2011 -1.338546        8        4        11     8.0\n",
       "2     B  2012 -1.550581        5        9         9     4.5\n",
       "3   A_1  2013 -1.091030        5        7        18     4.5\n",
       "4     B  2014  1.156894        6        3        12     6.5\n",
       "5     B  2015 -0.094821        6        6        18     6.5\n",
       "6     C  2016  0.103722        3        2         2     2.5\n",
       "7   A_1  2017 -0.726145        9        1        19     9.5\n",
       "8     C  2018 -0.952616        1        3         5     1.0\n",
       "9     C  2019 -1.407730        3        6        11     2.5"
      ]
     },
     "execution_count": 97,
     "metadata": {
      "tags": []
     },
     "output_type": "execute_result"
    }
   ],
   "source": [
    "df.replace('A', 'A_1')"
   ]
  },
  {
   "cell_type": "code",
   "execution_count": null,
   "metadata": {
    "colab": {
     "base_uri": "https://localhost:8080/",
     "height": 343
    },
    "executionInfo": {
     "elapsed": 638,
     "status": "ok",
     "timestamp": 1606678426286,
     "user": {
      "displayName": "Clive Drowley",
      "photoUrl": "https://lh3.googleusercontent.com/a-/AOh14GiMNBUScpz6uK1OoAP_wiX3V1hNMKU7OdlT-d-7=s64",
      "userId": "08192785469387199056"
     },
     "user_tz": 0
    },
    "id": "1HXAJWS3fyxB",
    "outputId": "72b15c4b-32c6-47ad-cc34-0a18199c19b1"
   },
   "outputs": [
    {
     "data": {
      "text/html": [
       "<div>\n",
       "<style scoped>\n",
       "    .dataframe tbody tr th:only-of-type {\n",
       "        vertical-align: middle;\n",
       "    }\n",
       "\n",
       "    .dataframe tbody tr th {\n",
       "        vertical-align: top;\n",
       "    }\n",
       "\n",
       "    .dataframe thead th {\n",
       "        text-align: right;\n",
       "    }\n",
       "</style>\n",
       "<table border=\"1\" class=\"dataframe\">\n",
       "  <thead>\n",
       "    <tr style=\"text-align: right;\">\n",
       "      <th></th>\n",
       "      <th>group</th>\n",
       "      <th>year</th>\n",
       "      <th>new_col</th>\n",
       "      <th>value_1</th>\n",
       "      <th>value_2</th>\n",
       "      <th>cumsum_2</th>\n",
       "      <th>rank_1</th>\n",
       "    </tr>\n",
       "  </thead>\n",
       "  <tbody>\n",
       "    <tr>\n",
       "      <th>0</th>\n",
       "      <td>A_1</td>\n",
       "      <td>2010</td>\n",
       "      <td>-0.943155</td>\n",
       "      <td>9</td>\n",
       "      <td>7</td>\n",
       "      <td>7</td>\n",
       "      <td>9.5</td>\n",
       "    </tr>\n",
       "    <tr>\n",
       "      <th>1</th>\n",
       "      <td>A_1</td>\n",
       "      <td>2011</td>\n",
       "      <td>-1.338546</td>\n",
       "      <td>8</td>\n",
       "      <td>4</td>\n",
       "      <td>11</td>\n",
       "      <td>8.0</td>\n",
       "    </tr>\n",
       "    <tr>\n",
       "      <th>2</th>\n",
       "      <td>B_1</td>\n",
       "      <td>2012</td>\n",
       "      <td>-1.550581</td>\n",
       "      <td>5</td>\n",
       "      <td>9</td>\n",
       "      <td>9</td>\n",
       "      <td>4.5</td>\n",
       "    </tr>\n",
       "    <tr>\n",
       "      <th>3</th>\n",
       "      <td>A_1</td>\n",
       "      <td>2013</td>\n",
       "      <td>-1.091030</td>\n",
       "      <td>5</td>\n",
       "      <td>7</td>\n",
       "      <td>18</td>\n",
       "      <td>4.5</td>\n",
       "    </tr>\n",
       "    <tr>\n",
       "      <th>4</th>\n",
       "      <td>B_1</td>\n",
       "      <td>2014</td>\n",
       "      <td>1.156894</td>\n",
       "      <td>6</td>\n",
       "      <td>3</td>\n",
       "      <td>12</td>\n",
       "      <td>6.5</td>\n",
       "    </tr>\n",
       "    <tr>\n",
       "      <th>5</th>\n",
       "      <td>B_1</td>\n",
       "      <td>2015</td>\n",
       "      <td>-0.094821</td>\n",
       "      <td>6</td>\n",
       "      <td>6</td>\n",
       "      <td>18</td>\n",
       "      <td>6.5</td>\n",
       "    </tr>\n",
       "    <tr>\n",
       "      <th>6</th>\n",
       "      <td>C</td>\n",
       "      <td>2016</td>\n",
       "      <td>0.103722</td>\n",
       "      <td>3</td>\n",
       "      <td>2</td>\n",
       "      <td>2</td>\n",
       "      <td>2.5</td>\n",
       "    </tr>\n",
       "    <tr>\n",
       "      <th>7</th>\n",
       "      <td>A_1</td>\n",
       "      <td>2017</td>\n",
       "      <td>-0.726145</td>\n",
       "      <td>9</td>\n",
       "      <td>1</td>\n",
       "      <td>19</td>\n",
       "      <td>9.5</td>\n",
       "    </tr>\n",
       "    <tr>\n",
       "      <th>8</th>\n",
       "      <td>C</td>\n",
       "      <td>2018</td>\n",
       "      <td>-0.952616</td>\n",
       "      <td>1</td>\n",
       "      <td>3</td>\n",
       "      <td>5</td>\n",
       "      <td>1.0</td>\n",
       "    </tr>\n",
       "    <tr>\n",
       "      <th>9</th>\n",
       "      <td>C</td>\n",
       "      <td>2019</td>\n",
       "      <td>-1.407730</td>\n",
       "      <td>3</td>\n",
       "      <td>6</td>\n",
       "      <td>11</td>\n",
       "      <td>2.5</td>\n",
       "    </tr>\n",
       "  </tbody>\n",
       "</table>\n",
       "</div>"
      ],
      "text/plain": [
       "  group  year   new_col  value_1  value_2  cumsum_2  rank_1\n",
       "0   A_1  2010 -0.943155        9        7         7     9.5\n",
       "1   A_1  2011 -1.338546        8        4        11     8.0\n",
       "2   B_1  2012 -1.550581        5        9         9     4.5\n",
       "3   A_1  2013 -1.091030        5        7        18     4.5\n",
       "4   B_1  2014  1.156894        6        3        12     6.5\n",
       "5   B_1  2015 -0.094821        6        6        18     6.5\n",
       "6     C  2016  0.103722        3        2         2     2.5\n",
       "7   A_1  2017 -0.726145        9        1        19     9.5\n",
       "8     C  2018 -0.952616        1        3         5     1.0\n",
       "9     C  2019 -1.407730        3        6        11     2.5"
      ]
     },
     "execution_count": 98,
     "metadata": {
      "tags": []
     },
     "output_type": "execute_result"
    }
   ],
   "source": [
    "df.replace({'A':'A_1', 'B':'B_1'})"
   ]
  },
  {
   "cell_type": "markdown",
   "metadata": {
    "id": "bJgDnYDof0uj"
   },
   "source": [
    "## Applymap"
   ]
  },
  {
   "cell_type": "markdown",
   "metadata": {
    "id": "_jGMP6S2f2I4"
   },
   "source": [
    "Applymap function is used to apply a function to a dataframe elementwise. Please note that if a vectorized version of an operation is available, it should be preferred over applymap. For instance, if we want to multiple each element by a number, we don’t need and should not use applymap function. A simple vectorized operation (e.g. df * 4 ) is much faster in that case."
   ]
  },
  {
   "cell_type": "code",
   "execution_count": null,
   "metadata": {
    "colab": {
     "base_uri": "https://localhost:8080/"
    },
    "executionInfo": {
     "elapsed": 455,
     "status": "ok",
     "timestamp": 1606678697355,
     "user": {
      "displayName": "Clive Drowley",
      "photoUrl": "https://lh3.googleusercontent.com/a-/AOh14GiMNBUScpz6uK1OoAP_wiX3V1hNMKU7OdlT-d-7=s64",
      "userId": "08192785469387199056"
     },
     "user_tz": 0
    },
    "id": "08AJOJ1jf1Tg",
    "outputId": "28c0281c-d16c-4b2e-a0d6-79da3d2ec830"
   },
   "outputs": [
    {
     "data": {
      "text/plain": [
       "0    28\n",
       "1    44\n",
       "2    36\n",
       "3    72\n",
       "4    48\n",
       "5    72\n",
       "6     8\n",
       "7    76\n",
       "8    20\n",
       "9    44\n",
       "Name: cumsum_2, dtype: int64"
      ]
     },
     "execution_count": 101,
     "metadata": {
      "tags": []
     },
     "output_type": "execute_result"
    }
   ],
   "source": [
    "# Vectorised functions are preffered, i.e.:\n",
    "df['cumsum_2']*4"
   ]
  },
  {
   "cell_type": "code",
   "execution_count": null,
   "metadata": {
    "colab": {
     "base_uri": "https://localhost:8080/",
     "height": 138
    },
    "executionInfo": {
     "elapsed": 453,
     "status": "ok",
     "timestamp": 1606678982321,
     "user": {
      "displayName": "Clive Drowley",
      "photoUrl": "https://lh3.googleusercontent.com/a-/AOh14GiMNBUScpz6uK1OoAP_wiX3V1hNMKU7OdlT-d-7=s64",
      "userId": "08192785469387199056"
     },
     "user_tz": 0
    },
    "id": "ONyrT-LUg91F",
    "outputId": "35da845f-7475-4fda-d50a-ab602b448723"
   },
   "outputs": [
    {
     "data": {
      "text/html": [
       "<style  type=\"text/css\" >\n",
       "#T_1678d434_327b_11eb_bf0a_0242ac1c0002row0_col0,#T_1678d434_327b_11eb_bf0a_0242ac1c0002row1_col0,#T_1678d434_327b_11eb_bf0a_0242ac1c0002row3_col1,#T_1678d434_327b_11eb_bf0a_0242ac1c0002row4_col0{\n",
       "            color:  red;\n",
       "        }#T_1678d434_327b_11eb_bf0a_0242ac1c0002row0_col1,#T_1678d434_327b_11eb_bf0a_0242ac1c0002row1_col1,#T_1678d434_327b_11eb_bf0a_0242ac1c0002row2_col0,#T_1678d434_327b_11eb_bf0a_0242ac1c0002row2_col1,#T_1678d434_327b_11eb_bf0a_0242ac1c0002row3_col0,#T_1678d434_327b_11eb_bf0a_0242ac1c0002row4_col1{\n",
       "            color:  black;\n",
       "        }</style><table id=\"T_1678d434_327b_11eb_bf0a_0242ac1c0002\" ><thead>    <tr>        <th class=\"blank level0\" ></th>        <th class=\"col_heading level0 col0\" >A</th>        <th class=\"col_heading level0 col1\" >B</th>    </tr></thead><tbody>\n",
       "                <tr>\n",
       "                        <th id=\"T_1678d434_327b_11eb_bf0a_0242ac1c0002level0_row0\" class=\"row_heading level0 row0\" >0</th>\n",
       "                        <td id=\"T_1678d434_327b_11eb_bf0a_0242ac1c0002row0_col0\" class=\"data row0 col0\" >-1.200000</td>\n",
       "                        <td id=\"T_1678d434_327b_11eb_bf0a_0242ac1c0002row0_col1\" class=\"data row0 col1\" >8.100000</td>\n",
       "            </tr>\n",
       "            <tr>\n",
       "                        <th id=\"T_1678d434_327b_11eb_bf0a_0242ac1c0002level0_row1\" class=\"row_heading level0 row1\" >1</th>\n",
       "                        <td id=\"T_1678d434_327b_11eb_bf0a_0242ac1c0002row1_col0\" class=\"data row1 col0\" >-4.400000</td>\n",
       "                        <td id=\"T_1678d434_327b_11eb_bf0a_0242ac1c0002row1_col1\" class=\"data row1 col1\" >3.100000</td>\n",
       "            </tr>\n",
       "            <tr>\n",
       "                        <th id=\"T_1678d434_327b_11eb_bf0a_0242ac1c0002level0_row2\" class=\"row_heading level0 row2\" >2</th>\n",
       "                        <td id=\"T_1678d434_327b_11eb_bf0a_0242ac1c0002row2_col0\" class=\"data row2 col0\" >3.000000</td>\n",
       "                        <td id=\"T_1678d434_327b_11eb_bf0a_0242ac1c0002row2_col1\" class=\"data row2 col1\" >2.200000</td>\n",
       "            </tr>\n",
       "            <tr>\n",
       "                        <th id=\"T_1678d434_327b_11eb_bf0a_0242ac1c0002level0_row3\" class=\"row_heading level0 row3\" >3</th>\n",
       "                        <td id=\"T_1678d434_327b_11eb_bf0a_0242ac1c0002row3_col0\" class=\"data row3 col0\" >5.200000</td>\n",
       "                        <td id=\"T_1678d434_327b_11eb_bf0a_0242ac1c0002row3_col1\" class=\"data row3 col1\" >-2.500000</td>\n",
       "            </tr>\n",
       "            <tr>\n",
       "                        <th id=\"T_1678d434_327b_11eb_bf0a_0242ac1c0002level0_row4\" class=\"row_heading level0 row4\" >4</th>\n",
       "                        <td id=\"T_1678d434_327b_11eb_bf0a_0242ac1c0002row4_col0\" class=\"data row4 col0\" >-2.300000</td>\n",
       "                        <td id=\"T_1678d434_327b_11eb_bf0a_0242ac1c0002row4_col1\" class=\"data row4 col1\" >5.200000</td>\n",
       "            </tr>\n",
       "    </tbody></table>"
      ],
      "text/plain": [
       "<pandas.io.formats.style.Styler at 0x7f829a526550>"
      ]
     },
     "execution_count": 108,
     "metadata": {
      "tags": []
     },
     "output_type": "execute_result"
    }
   ],
   "source": [
    "# However, there might be some cases where we do not have the option of vectorized operation. For instance, we can change the style of a dataframe using Style property of pandas dataframes. \n",
    "# The following function changes the color of negative values as red.\n",
    "def color_negative_values(val):\n",
    "   color = 'red' if val < 0 else 'black'\n",
    "   return 'color: %s' % color\n",
    "\n",
    "\n",
    "data = [{'A':-1.200000, 'B':8.100000},\n",
    "        {'A':-4.400000, 'B':3.100000},\n",
    "        {'A':3.000000, 'B':2.200000},\n",
    "        {'A':5.200000, 'B':-2.500000},\n",
    "        {'A':-2.300000, 'B':5.200000}]\n",
    "\n",
    "df4 = pd.DataFrame(data)\n",
    "df4.style.applymap(color_negative_values)"
   ]
  }
 ],
 "metadata": {
  "colab": {
   "authorship_tag": "ABX9TyNeqshlaXI5mUcnX1QBrut2",
   "collapsed_sections": [
    "orN4Wg54UTkF",
    "zyrdY-qhisgn",
    "833cWdLTivPO",
    "JoIRucjrjEU8",
    "mJ7SaAB8jM-e",
    "uwTc99aLUXaa",
    "p2AcEVkIUpwM",
    "hHVsk_pyUTMy",
    "-7VpftHmWSP9",
    "d6bMcrFIWR6Z",
    "iwrFUVUaWRiQ",
    "cuqzQ5mBWQ0j",
    "z-7DfuSKXL2e",
    "DuqB0FaGXLD9",
    "CeqvimxzXJl-",
    "QOQN3KkAYpKY",
    "5TVUuOUIYrYK",
    "KOJLTrQYYtfI",
    "VHHOkhKhYycu",
    "un3m0FDGYx0y",
    "w5JFnPzJYwLG",
    "5Zysm-BqYvbx",
    "d5yNVMDHYuum",
    "CXBwGzUYfjMX",
    "osYaj6_OfpUv",
    "bJgDnYDof0uj",
    "YAGrr9E2UT7w",
    "ym3QoboRUUU9",
    "siwNPwvG4vgF"
   ],
   "name": "pandas.ipynb",
   "provenance": []
  },
  "interpreter": {
   "hash": "916dbcbb3f70747c44a77c7bcd40155683ae19c65e1c03b4aa3499c5328201f1"
  },
  "kernelspec": {
   "display_name": "Python 3.8.3 64-bit",
   "language": "python",
   "name": "python3"
  },
  "language_info": {
   "codemirror_mode": {
    "name": "ipython",
    "version": 3
   },
   "file_extension": ".py",
   "mimetype": "text/x-python",
   "name": "python",
   "nbconvert_exporter": "python",
   "pygments_lexer": "ipython3",
   "version": "3.8.10"
  }
 },
 "nbformat": 4,
 "nbformat_minor": 4
}
