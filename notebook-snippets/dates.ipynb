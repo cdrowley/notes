{
 "cells": [
  {
   "cell_type": "markdown",
   "metadata": {},
   "source": [
    "### Basics"
   ]
  },
  {
   "cell_type": "code",
   "execution_count": 33,
   "metadata": {},
   "outputs": [
    {
     "data": {
      "text/plain": [
       "Timestamp('2022-03-13 21:30:32.951070')"
      ]
     },
     "metadata": {},
     "output_type": "display_data"
    },
    {
     "data": {
      "text/plain": [
       "Timestamp('2022-03-06 21:30:32.951070')"
      ]
     },
     "metadata": {},
     "output_type": "display_data"
    }
   ],
   "source": [
    "import pandas as pd\n",
    "from datetime import timedelta\n",
    "\n",
    "today = pd.to_datetime('today')\n",
    "last_week = today + timedelta(days=-7)\n",
    "\n",
    "display(today)\n",
    "display(last_week)\n",
    "\n",
    "# Parse Dates Pandas\n",
    "#df['date'] = pd.to_datetime(df['date'], format='%Y-%m-%d')"
   ]
  },
  {
   "cell_type": "code",
   "execution_count": 30,
   "metadata": {},
   "outputs": [
    {
     "name": "stdout",
     "output_type": "stream",
     "text": [
      "Day of year: [1, 276, 66, 126, 103, 96]\n",
      "Day of month: [1, 2, 7, 6, 12, 6]\n",
      "Day of week: [3, 6, 2, 1, 1, 5]\n",
      "Day name: ['Thursday', 'Sunday', 'Wednesday', 'Tuesday', 'Tuesday', 'Saturday']\n",
      "ISO Year: [2015, 2016, 2018, 2014, 2016, 2019]\n",
      "Month number: [1, 10, 3, 5, 4, 4]\n",
      "ISO Week: [1, 39, 10, 19, 15, 14]\n",
      "ISO Day: [4, 7, 3, 2, 2, 6]\n",
      "['2015-01-01', '2016-10-02', '2018-03-07', '2014-05-06', '2016-04-12', '2019-04-06']\n"
     ]
    }
   ],
   "source": [
    "from dateutil.parser import parse\n",
    "\n",
    "date_series = pd.Series(['01 Jan 2015', '10-02-2016', '20180307', '2014/05/06', '2016-04-12', '2019-04-06T11:20'])\n",
    "date_series = date_series.map(lambda x: parse(x))\n",
    "\n",
    "print(\"Day of year:\", date_series.dt.dayofyear.tolist())\n",
    "print(\"Day of month:\", date_series.dt.day.tolist())\n",
    "print(\"Day of week:\", date_series.dt.weekday.tolist())\n",
    "print(\"Day name:\", date_series.dt.day_name().tolist())\n",
    "\n",
    "print(\"ISO Year:\", date_series.dt.isocalendar().year.tolist())\n",
    "print(\"Month number:\", date_series.dt.month.tolist())\n",
    "print(\"ISO Week:\", date_series.dt.isocalendar().week.tolist())\n",
    "print(\"ISO Day:\", date_series.dt.isocalendar().day.tolist())\n",
    "\n",
    "print(date_series.dt.strftime('%Y-%m-%d').tolist())"
   ]
  },
  {
   "cell_type": "markdown",
   "metadata": {},
   "source": [
    "### Fill-in date gaps"
   ]
  },
  {
   "cell_type": "code",
   "execution_count": null,
   "metadata": {},
   "outputs": [],
   "source": []
  }
 ],
 "metadata": {
  "interpreter": {
   "hash": "e5dadfacaa37eaf0dc36f596c291151ff2834ee9a705b4f98a87924288fc9394"
  },
  "kernelspec": {
   "display_name": "Python 3.9.0 64-bit",
   "language": "python",
   "name": "python3"
  },
  "language_info": {
   "codemirror_mode": {
    "name": "ipython",
    "version": 3
   },
   "file_extension": ".py",
   "mimetype": "text/x-python",
   "name": "python",
   "nbconvert_exporter": "python",
   "pygments_lexer": "ipython3",
   "version": "3.8.10"
  },
  "orig_nbformat": 2
 },
 "nbformat": 4,
 "nbformat_minor": 2
}
